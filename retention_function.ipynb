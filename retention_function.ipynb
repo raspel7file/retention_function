{
 "cells": [
  {
   "cell_type": "markdown",
   "metadata": {},
   "source": [
    "# Задание\n",
    "Необходимо написать функцию для расчёта retention"
   ]
  },
  {
   "cell_type": "markdown",
   "metadata": {},
   "source": [
    "## Импорт библиотек, настройка графиков"
   ]
  },
  {
   "cell_type": "code",
   "execution_count": 1,
   "metadata": {},
   "outputs": [],
   "source": [
    "import pandas as pd\n",
    "import numpy as np\n",
    "import os\n",
    "import time\n",
    "import pytz # устаревший модуль, в более новых версиях заменён на zoneinfo\n",
    "from pytz.exceptions import UnknownTimeZoneError\n",
    "from datetime import datetime, timedelta\n",
    "import matplotlib.pyplot as plt\n",
    "import seaborn as sns\n",
    "\n",
    "\n",
    "%matplotlib inline"
   ]
  },
  {
   "cell_type": "code",
   "execution_count": 2,
   "metadata": {},
   "outputs": [],
   "source": [
    "sns.set_theme(\n",
    "    style='whitegrid',\n",
    "    font_scale=2,\n",
    "    palette='dark',\n",
    "    rc={'figure.figsize': (16, 9)}\n",
    ")"
   ]
  },
  {
   "cell_type": "markdown",
   "metadata": {},
   "source": [
    "## Теоретическая база\n",
    "Retention (удержание) − важная метрика, показывающая, насколько хорошо пользователи возвращаются в наш продукт (косвенно − насколько он им нравится). Уровень удержания (retention rate) в общем случае можно подсчитать как\n",
    "\n",
    "$$ RR = \\frac{количество\\ клиентов\\ на\\ конец\\ периода − количество\\ новых\\ клиентов\\ за\\ период}{количество\\ клиентов\\ в\\ начале\\ периода} · 100\\% $$\n",
    "\n",
    "Retention бывает 2 типов: retention n-ого дня и rolling retention. В нашем случае retention n-ого дня подойдёт лучше, так как наш продукт используется часто и много, и мы не хотим постоянно пересчитывать rolling retention. \n",
    "\n",
    "Для расчёта retention rate n-ого дня мы разобьём всех пользователей на когорты по дням регистрации; посчитаем для каждой когорты retention n-ого дня как отношение числа пользователей, зарегистрированных в игре в определённый день и вернувшихся в игру через n дней, к числу пользователей, зарегистрированных в игре в определённый день; а потом возьмём взвешенное среднее арифметическое retention rate по всем когортам, попадающим в расчётный период:\n",
    "\n",
    "$$RR = \\frac{\\sum_{i=1}^m (r_i·b_i)}{\\sum_{i=1}^m b_i},$$\n",
    "\n",
    "где\n",
    "    m − число когорт;\n",
    "    $r_i$ − retention n-ого дня i-той когорты;\n",
    "    $b_i$ − число пользователей в когорте (пользователи, зарегистрировавшиеся в игре в определённый день).\n",
    "\n",
    "Retention n-ого дня i-той когорты можно рассчитать как\n",
    "\n",
    "$$r_i = \\frac{a_i}{b_i},$$\n",
    "\n",
    "где $b_i$ − число пользователей в когорте (пользователи, зарегистрировавшиеся в игре в определённый день); а $a_i$ − число пользователей этой когорты, вернувшихся в игру на n-ный день.\n",
    "\n",
    "Таким образом, retention rate n-ого дня можно представить как\n",
    "\n",
    "$$RR = \\frac{\\sum_{i=1}^m a_i}{\\sum_{i=1}^m b_i},$$\n",
    "\n",
    "что гораздо проще для расчётов. Этой формулой мы и будем пользоваться."
   ]
  },
  {
   "cell_type": "markdown",
   "metadata": {},
   "source": [
    "## Считывание, предварительное изучение и предобработка данных"
   ]
  },
  {
   "cell_type": "code",
   "execution_count": 3,
   "metadata": {},
   "outputs": [],
   "source": [
    "path_to_registration_data  = \"https://drive.google.com/uc?export=download&id=1jn7-iNFOtDHrY69TLsgFH7P6Gcv3cRYZ\"\n",
    "path_to_authorization_data = \"https://getfile.dokpub.com/yandex/get/https://disk.yandex.com/d/WqlBuzCFovm-3g\"\n",
    "\n",
    "registration_data  = pd.read_csv(path_to_registration_data, sep=';')\n",
    "authorization_data = pd.read_csv(path_to_authorization_data, sep=';')"
   ]
  },
  {
   "cell_type": "markdown",
   "metadata": {},
   "source": [
    "Посмотрим, как выглядят данные."
   ]
  },
  {
   "cell_type": "code",
   "execution_count": 4,
   "metadata": {},
   "outputs": [
    {
     "data": {
      "text/html": [
       "<div>\n",
       "<style scoped>\n",
       "    .dataframe tbody tr th:only-of-type {\n",
       "        vertical-align: middle;\n",
       "    }\n",
       "\n",
       "    .dataframe tbody tr th {\n",
       "        vertical-align: top;\n",
       "    }\n",
       "\n",
       "    .dataframe thead th {\n",
       "        text-align: right;\n",
       "    }\n",
       "</style>\n",
       "<table border=\"1\" class=\"dataframe\">\n",
       "  <thead>\n",
       "    <tr style=\"text-align: right;\">\n",
       "      <th></th>\n",
       "      <th>reg_ts</th>\n",
       "      <th>uid</th>\n",
       "    </tr>\n",
       "  </thead>\n",
       "  <tbody>\n",
       "    <tr>\n",
       "      <th>0</th>\n",
       "      <td>911382223</td>\n",
       "      <td>1</td>\n",
       "    </tr>\n",
       "    <tr>\n",
       "      <th>1</th>\n",
       "      <td>932683089</td>\n",
       "      <td>2</td>\n",
       "    </tr>\n",
       "    <tr>\n",
       "      <th>2</th>\n",
       "      <td>947802447</td>\n",
       "      <td>3</td>\n",
       "    </tr>\n",
       "    <tr>\n",
       "      <th>3</th>\n",
       "      <td>959523541</td>\n",
       "      <td>4</td>\n",
       "    </tr>\n",
       "    <tr>\n",
       "      <th>4</th>\n",
       "      <td>969103313</td>\n",
       "      <td>5</td>\n",
       "    </tr>\n",
       "  </tbody>\n",
       "</table>\n",
       "</div>"
      ],
      "text/plain": [
       "      reg_ts  uid\n",
       "0  911382223    1\n",
       "1  932683089    2\n",
       "2  947802447    3\n",
       "3  959523541    4\n",
       "4  969103313    5"
      ]
     },
     "execution_count": 4,
     "metadata": {},
     "output_type": "execute_result"
    }
   ],
   "source": [
    "registration_data.head()"
   ]
  },
  {
   "cell_type": "code",
   "execution_count": 5,
   "metadata": {},
   "outputs": [
    {
     "data": {
      "text/html": [
       "<div>\n",
       "<style scoped>\n",
       "    .dataframe tbody tr th:only-of-type {\n",
       "        vertical-align: middle;\n",
       "    }\n",
       "\n",
       "    .dataframe tbody tr th {\n",
       "        vertical-align: top;\n",
       "    }\n",
       "\n",
       "    .dataframe thead th {\n",
       "        text-align: right;\n",
       "    }\n",
       "</style>\n",
       "<table border=\"1\" class=\"dataframe\">\n",
       "  <thead>\n",
       "    <tr style=\"text-align: right;\">\n",
       "      <th></th>\n",
       "      <th>auth_ts</th>\n",
       "      <th>uid</th>\n",
       "    </tr>\n",
       "  </thead>\n",
       "  <tbody>\n",
       "    <tr>\n",
       "      <th>0</th>\n",
       "      <td>911382223</td>\n",
       "      <td>1</td>\n",
       "    </tr>\n",
       "    <tr>\n",
       "      <th>1</th>\n",
       "      <td>932683089</td>\n",
       "      <td>2</td>\n",
       "    </tr>\n",
       "    <tr>\n",
       "      <th>2</th>\n",
       "      <td>932921206</td>\n",
       "      <td>2</td>\n",
       "    </tr>\n",
       "    <tr>\n",
       "      <th>3</th>\n",
       "      <td>933393015</td>\n",
       "      <td>2</td>\n",
       "    </tr>\n",
       "    <tr>\n",
       "      <th>4</th>\n",
       "      <td>933875379</td>\n",
       "      <td>2</td>\n",
       "    </tr>\n",
       "  </tbody>\n",
       "</table>\n",
       "</div>"
      ],
      "text/plain": [
       "     auth_ts  uid\n",
       "0  911382223    1\n",
       "1  932683089    2\n",
       "2  932921206    2\n",
       "3  933393015    2\n",
       "4  933875379    2"
      ]
     },
     "execution_count": 5,
     "metadata": {},
     "output_type": "execute_result"
    }
   ],
   "source": [
    "authorization_data.head()"
   ]
  },
  {
   "cell_type": "code",
   "execution_count": 6,
   "metadata": {},
   "outputs": [
    {
     "name": "stdout",
     "output_type": "stream",
     "text": [
      "<class 'pandas.core.frame.DataFrame'>\n",
      "RangeIndex: 1000000 entries, 0 to 999999\n",
      "Data columns (total 2 columns):\n",
      " #   Column  Non-Null Count    Dtype\n",
      "---  ------  --------------    -----\n",
      " 0   reg_ts  1000000 non-null  int64\n",
      " 1   uid     1000000 non-null  int64\n",
      "dtypes: int64(2)\n",
      "memory usage: 15.3 MB\n"
     ]
    }
   ],
   "source": [
    "registration_data.info()"
   ]
  },
  {
   "cell_type": "code",
   "execution_count": 7,
   "metadata": {},
   "outputs": [
    {
     "name": "stdout",
     "output_type": "stream",
     "text": [
      "<class 'pandas.core.frame.DataFrame'>\n",
      "RangeIndex: 9601013 entries, 0 to 9601012\n",
      "Data columns (total 2 columns):\n",
      " #   Column   Dtype\n",
      "---  ------   -----\n",
      " 0   auth_ts  int64\n",
      " 1   uid      int64\n",
      "dtypes: int64(2)\n",
      "memory usage: 146.5 MB\n"
     ]
    }
   ],
   "source": [
    "authorization_data.info()"
   ]
  },
  {
   "cell_type": "markdown",
   "metadata": {},
   "source": [
    "10 миллионов строк − многовато. Придётся думать об оптимизации. \n",
    "___\n",
    "Проверка на пропущенные значения в данных:"
   ]
  },
  {
   "cell_type": "code",
   "execution_count": 8,
   "metadata": {},
   "outputs": [
    {
     "name": "stdout",
     "output_type": "stream",
     "text": [
      "Пропущенных значений в таблице с данными о регистрации нет.\n",
      "Пропущенных значений в таблице с данными о входе нет.\n"
     ]
    }
   ],
   "source": [
    "if registration_data.isnull().sum().sum() == 0:\n",
    "    print(\"Пропущенных значений в таблице с данными о регистрации нет.\")\n",
    "elif registration_data.isnull().sum().sum() > 0:\n",
    "    print(\"В таблице с данными о регистрации есть пропущенные значения.\")\n",
    "else:\n",
    "    print(\"С таблицей с данными о регистрации творится что-то странное.\")\n",
    "    \n",
    "if authorization_data.isnull().sum().sum() == 0:\n",
    "    print(\"Пропущенных значений в таблице с данными о входе нет.\")\n",
    "elif authorization_data.isnull().sum().sum() > 0:\n",
    "    print(\"В таблице с данными о входе есть пропущенные значения.\")\n",
    "else:\n",
    "    print(\"С таблицей с данными о входе творится что-то странное.\")"
   ]
  },
  {
   "cell_type": "markdown",
   "metadata": {},
   "source": [
    "___\n",
    "Проверка на соответствие ID пользователей в таблицах:"
   ]
  },
  {
   "cell_type": "code",
   "execution_count": 9,
   "metadata": {},
   "outputs": [
    {
     "data": {
      "text/plain": [
       "1000000"
      ]
     },
     "execution_count": 9,
     "metadata": {},
     "output_type": "execute_result"
    }
   ],
   "source": [
    "registration_data.uid.nunique()"
   ]
  },
  {
   "cell_type": "code",
   "execution_count": 10,
   "metadata": {},
   "outputs": [
    {
     "data": {
      "text/plain": [
       "1000000"
      ]
     },
     "execution_count": 10,
     "metadata": {},
     "output_type": "execute_result"
    }
   ],
   "source": [
    "authorization_data.uid.nunique()"
   ]
  },
  {
   "cell_type": "code",
   "execution_count": 11,
   "metadata": {},
   "outputs": [
    {
     "data": {
      "text/plain": [
       "True"
      ]
     },
     "execution_count": 11,
     "metadata": {},
     "output_type": "execute_result"
    }
   ],
   "source": [
    "registration_data.uid.nunique() == authorization_data.uid.nunique()"
   ]
  },
  {
   "cell_type": "code",
   "execution_count": 12,
   "metadata": {},
   "outputs": [
    {
     "name": "stdout",
     "output_type": "stream",
     "text": [
      "Зарегистрированных, но нелогинившихся пользователей нет.\n",
      "Логинившихся, но незарегистрированных пользователей нет.\n"
     ]
    }
   ],
   "source": [
    "registered_users = set(registration_data.uid.unique())\n",
    "logged_users     = set(authorization_data.uid.unique())\n",
    "\n",
    "registered_but_not_logged_users = registered_users.difference(logged_users)\n",
    "logged_but_not_registered_users = logged_users.difference(registered_users)\n",
    "        \n",
    "if len(registered_but_not_logged_users) == 0:\n",
    "    print(\"Зарегистрированных, но нелогинившихся пользователей нет.\")\n",
    "else:\n",
    "    print(f\"Зарегистрировались, но не логинились пользователи: {registered_but_not_logged_users}\")\n",
    "      \n",
    "if len(logged_but_not_registered_users) == 0:\n",
    "    print(\"Логинившихся, но незарегистрированных пользователей нет.\")\n",
    "else:\n",
    "    print(f\"Логинились незарегистрированные пользователи: {logged_but_not_registered_users}\")"
   ]
  },
  {
   "cell_type": "markdown",
   "metadata": {},
   "source": [
    "___\n",
    "Переведём время из UNIX-timestamp'ов в более удобный для восприятия формат. Учтём, что мы в компании считаем даты по центральноевропейскому времени (UTC+1 зимой, UTC+2 летом)."
   ]
  },
  {
   "cell_type": "code",
   "execution_count": 13,
   "metadata": {},
   "outputs": [],
   "source": [
    "registration_data['reg_date'] = pd.to_datetime(registration_data['reg_ts'], unit='s') \\\n",
    "    .dt.tz_localize('UTC') \\\n",
    "    .dt.tz_convert('Europe/Berlin')\n",
    "\n",
    "authorization_data['auth_date'] = pd.to_datetime(authorization_data['auth_ts'], unit='s') \\\n",
    "    .dt.tz_localize('UTC') \\\n",
    "    .dt.tz_convert('Europe/Berlin')"
   ]
  },
  {
   "cell_type": "markdown",
   "metadata": {},
   "source": [
    "Теперь данные выглядят так:"
   ]
  },
  {
   "cell_type": "code",
   "execution_count": 14,
   "metadata": {},
   "outputs": [
    {
     "data": {
      "text/html": [
       "<div>\n",
       "<style scoped>\n",
       "    .dataframe tbody tr th:only-of-type {\n",
       "        vertical-align: middle;\n",
       "    }\n",
       "\n",
       "    .dataframe tbody tr th {\n",
       "        vertical-align: top;\n",
       "    }\n",
       "\n",
       "    .dataframe thead th {\n",
       "        text-align: right;\n",
       "    }\n",
       "</style>\n",
       "<table border=\"1\" class=\"dataframe\">\n",
       "  <thead>\n",
       "    <tr style=\"text-align: right;\">\n",
       "      <th></th>\n",
       "      <th>reg_ts</th>\n",
       "      <th>uid</th>\n",
       "      <th>reg_date</th>\n",
       "    </tr>\n",
       "  </thead>\n",
       "  <tbody>\n",
       "    <tr>\n",
       "      <th>0</th>\n",
       "      <td>911382223</td>\n",
       "      <td>1</td>\n",
       "      <td>1998-11-18 10:43:43+01:00</td>\n",
       "    </tr>\n",
       "    <tr>\n",
       "      <th>1</th>\n",
       "      <td>932683089</td>\n",
       "      <td>2</td>\n",
       "      <td>1999-07-23 00:38:09+02:00</td>\n",
       "    </tr>\n",
       "  </tbody>\n",
       "</table>\n",
       "</div>"
      ],
      "text/plain": [
       "      reg_ts  uid                  reg_date\n",
       "0  911382223    1 1998-11-18 10:43:43+01:00\n",
       "1  932683089    2 1999-07-23 00:38:09+02:00"
      ]
     },
     "execution_count": 14,
     "metadata": {},
     "output_type": "execute_result"
    }
   ],
   "source": [
    "registration_data.head(2)"
   ]
  },
  {
   "cell_type": "code",
   "execution_count": 15,
   "metadata": {},
   "outputs": [
    {
     "data": {
      "text/plain": [
       "reg_ts                              int64\n",
       "uid                                 int64\n",
       "reg_date    datetime64[ns, Europe/Berlin]\n",
       "dtype: object"
      ]
     },
     "execution_count": 15,
     "metadata": {},
     "output_type": "execute_result"
    }
   ],
   "source": [
    "registration_data.dtypes"
   ]
  },
  {
   "cell_type": "code",
   "execution_count": 16,
   "metadata": {},
   "outputs": [
    {
     "data": {
      "text/html": [
       "<div>\n",
       "<style scoped>\n",
       "    .dataframe tbody tr th:only-of-type {\n",
       "        vertical-align: middle;\n",
       "    }\n",
       "\n",
       "    .dataframe tbody tr th {\n",
       "        vertical-align: top;\n",
       "    }\n",
       "\n",
       "    .dataframe thead th {\n",
       "        text-align: right;\n",
       "    }\n",
       "</style>\n",
       "<table border=\"1\" class=\"dataframe\">\n",
       "  <thead>\n",
       "    <tr style=\"text-align: right;\">\n",
       "      <th></th>\n",
       "      <th>auth_ts</th>\n",
       "      <th>uid</th>\n",
       "      <th>auth_date</th>\n",
       "    </tr>\n",
       "  </thead>\n",
       "  <tbody>\n",
       "    <tr>\n",
       "      <th>0</th>\n",
       "      <td>911382223</td>\n",
       "      <td>1</td>\n",
       "      <td>1998-11-18 10:43:43+01:00</td>\n",
       "    </tr>\n",
       "    <tr>\n",
       "      <th>1</th>\n",
       "      <td>932683089</td>\n",
       "      <td>2</td>\n",
       "      <td>1999-07-23 00:38:09+02:00</td>\n",
       "    </tr>\n",
       "  </tbody>\n",
       "</table>\n",
       "</div>"
      ],
      "text/plain": [
       "     auth_ts  uid                 auth_date\n",
       "0  911382223    1 1998-11-18 10:43:43+01:00\n",
       "1  932683089    2 1999-07-23 00:38:09+02:00"
      ]
     },
     "execution_count": 16,
     "metadata": {},
     "output_type": "execute_result"
    }
   ],
   "source": [
    "authorization_data.head(2)"
   ]
  },
  {
   "cell_type": "code",
   "execution_count": 17,
   "metadata": {},
   "outputs": [
    {
     "data": {
      "text/plain": [
       "auth_ts                              int64\n",
       "uid                                  int64\n",
       "auth_date    datetime64[ns, Europe/Berlin]\n",
       "dtype: object"
      ]
     },
     "execution_count": 17,
     "metadata": {},
     "output_type": "execute_result"
    }
   ],
   "source": [
    "authorization_data.dtypes"
   ]
  },
  {
   "cell_type": "markdown",
   "metadata": {},
   "source": [
    "___\n",
    "Посмотрим диапазоны значений."
   ]
  },
  {
   "cell_type": "code",
   "execution_count": 18,
   "metadata": {},
   "outputs": [
    {
     "data": {
      "text/plain": [
       "Timestamp('1998-11-18 10:43:43+0100', tz='Europe/Berlin')"
      ]
     },
     "execution_count": 18,
     "metadata": {},
     "output_type": "execute_result"
    }
   ],
   "source": [
    "registration_data.reg_date.min()"
   ]
  },
  {
   "cell_type": "code",
   "execution_count": 19,
   "metadata": {},
   "outputs": [
    {
     "data": {
      "text/plain": [
       "Timestamp('2020-09-23 17:17:24+0200', tz='Europe/Berlin')"
      ]
     },
     "execution_count": 19,
     "metadata": {},
     "output_type": "execute_result"
    }
   ],
   "source": [
    "registration_data.reg_date.max()"
   ]
  },
  {
   "cell_type": "code",
   "execution_count": 20,
   "metadata": {},
   "outputs": [
    {
     "data": {
      "text/plain": [
       "Timestamp('1998-11-18 10:43:43+0100', tz='Europe/Berlin')"
      ]
     },
     "execution_count": 20,
     "metadata": {},
     "output_type": "execute_result"
    }
   ],
   "source": [
    "authorization_data.auth_date.min()"
   ]
  },
  {
   "cell_type": "code",
   "execution_count": 21,
   "metadata": {},
   "outputs": [
    {
     "data": {
      "text/plain": [
       "Timestamp('2020-09-23 17:17:24+0200', tz='Europe/Berlin')"
      ]
     },
     "execution_count": 21,
     "metadata": {},
     "output_type": "execute_result"
    }
   ],
   "source": [
    "authorization_data.auth_date.max()"
   ]
  },
  {
   "cell_type": "markdown",
   "metadata": {},
   "source": [
    "___\n",
    "Посмотрим дату первой авторизации у каждого пользователя, совпадает ли она с датой регистрации?"
   ]
  },
  {
   "cell_type": "code",
   "execution_count": 22,
   "metadata": {},
   "outputs": [
    {
     "name": "stdout",
     "output_type": "stream",
     "text": [
      "Время регистрации всегда совпадает со временем первого входа пользователя в приложение.\n",
      "    \n",
      "Выходит, датафрейм с регистрациями нам не очень-то и нужен. Мы можем обойтись подгрузкой только одной таблицы;\n",
      "возможно, это сэкономит машинные ресурсы.\n"
     ]
    }
   ],
   "source": [
    "first_auth = authorization_data \\\n",
    "            .groupby('uid', as_index=False) \\\n",
    "            .auth_date \\\n",
    "            .min() \\\n",
    "            .rename(columns={'auth_date': 'first_auth'})\n",
    "\n",
    "comparision_df = registration_data \\\n",
    "    .merge(first_auth, on='uid')\n",
    "\n",
    "comparision_df['checkbox'] = comparision_df['reg_date'] != comparision_df['first_auth']\n",
    "\n",
    "if comparision_df.checkbox.sum() == 0:\n",
    "    print('''Время регистрации всегда совпадает со временем первого входа пользователя в приложение.\n",
    "    \n",
    "Выходит, датафрейм с регистрациями нам не очень-то и нужен. Мы можем обойтись подгрузкой только одной таблицы;\n",
    "возможно, это сэкономит машинные ресурсы.''')\n",
    "else:\n",
    "    print('Время регистрации не всегда совпадает со временем первого входа пользователя в приложение.')"
   ]
  },
  {
   "cell_type": "markdown",
   "metadata": {},
   "source": [
    "___\n",
    "Посчитаем, сколько уникальных пользователей регистрируется и впервые заходит в игру в каждый из дней, а сколько посещает игру в каждый из дней."
   ]
  },
  {
   "cell_type": "code",
   "execution_count": 23,
   "metadata": {},
   "outputs": [],
   "source": [
    "first_auth_by_day = first_auth \\\n",
    "    .resample(rule='D', on='first_auth') \\\n",
    "    .nunique() \\\n",
    "    .rename(columns={'uid': 'users'}) \\\n",
    "    .reset_index()\n",
    "auth_by_day = authorization_data \\\n",
    "    .resample(rule='D', on='auth_date') \\\n",
    "    .nunique() \\\n",
    "    .rename(columns={'uid': 'users'}) \\\n",
    "    .reset_index()"
   ]
  },
  {
   "cell_type": "markdown",
   "metadata": {},
   "source": [
    "Отобразим это на графиках."
   ]
  },
  {
   "cell_type": "code",
   "execution_count": 24,
   "metadata": {},
   "outputs": [
    {
     "name": "stderr",
     "output_type": "stream",
     "text": [
      "C:\\ProgramData\\anaconda3\\Lib\\site-packages\\seaborn\\_oldcore.py:1119: FutureWarning: use_inf_as_na option is deprecated and will be removed in a future version. Convert inf values to NaN before operating instead.\n",
      "  with pd.option_context('mode.use_inf_as_na', True):\n",
      "C:\\ProgramData\\anaconda3\\Lib\\site-packages\\seaborn\\_oldcore.py:1119: FutureWarning: use_inf_as_na option is deprecated and will be removed in a future version. Convert inf values to NaN before operating instead.\n",
      "  with pd.option_context('mode.use_inf_as_na', True):\n",
      "C:\\ProgramData\\anaconda3\\Lib\\site-packages\\seaborn\\_oldcore.py:1119: FutureWarning: use_inf_as_na option is deprecated and will be removed in a future version. Convert inf values to NaN before operating instead.\n",
      "  with pd.option_context('mode.use_inf_as_na', True):\n",
      "C:\\ProgramData\\anaconda3\\Lib\\site-packages\\seaborn\\_oldcore.py:1119: FutureWarning: use_inf_as_na option is deprecated and will be removed in a future version. Convert inf values to NaN before operating instead.\n",
      "  with pd.option_context('mode.use_inf_as_na', True):\n"
     ]
    },
    {
     "data": {
      "image/png": "[encoded data removed]",
      "text/plain": [
       "<Figure size 1600x900 with 1 Axes>"
      ]
     },
     "metadata": {},
     "output_type": "display_data"
    }
   ],
   "source": [
    "sns.lineplot(\n",
    "    data=first_auth_by_day, \n",
    "    x='first_auth', \n",
    "    y='users', \n",
    "    label='Регистрации'\n",
    ")\n",
    "sns.lineplot(\n",
    "    data=auth_by_day, \n",
    "    x='auth_date', \n",
    "    y='users', \n",
    "    label='Посещения'\n",
    ")\n",
    "\n",
    "plt.title('Посещаемость игры\\n(уникальных пользователей в день)\\n')\n",
    "plt.xlabel('Дата')\n",
    "plt.ylabel('Количество уникальных пользователей')\n",
    "plt.legend()\n",
    "\n",
    "sns.despine()"
   ]
  },
  {
   "cell_type": "markdown",
   "metadata": {},
   "source": [
    "Видим, что долгое время дела у игры шли так себе (возможно, это период разработки и тестов?), показатели улучшились только в последние годы. Возможно, нет смысла считать retention большую часть этого периода, с минимальным количеством регистраций и посещений. В функции мы предусмотрим такую опцию.\n",
    "\n",
    "Небольшой спад в последний день − следствие того, что этот день неполный."
   ]
  },
  {
   "cell_type": "markdown",
   "metadata": {},
   "source": [
    "## Создание функции"
   ]
  },
  {
   "cell_type": "code",
   "execution_count": 25,
   "metadata": {},
   "outputs": [],
   "source": [
    "def retention_rate(\n",
    "    n, \n",
    "    path_to_file=\"https://getfile.dokpub.com/yandex/get/https://disk.yandex.com/d/WqlBuzCFovm-3g\",\n",
    "    timezone=\"Europe/Berlin\",\n",
    "    limit=0,\n",
    "    start_cohort=None, \n",
    "    end_cohort=None,\n",
    "    bootstrap_size=10000,\n",
    "    bootstrap_ci=0.95\n",
    "):\n",
    "    '''\n",
    "    Функция рассчитывает retention n-ного дня. Пользователи разбиваются на когорты по дням регистрации \n",
    "        (точно соответствующим дням первого входа в игру, поэтому считываем только файл со входами в игру).\n",
    "    \n",
    "    Аргументы:\n",
    "        n - день, retention на который мы считаем, должен быть целым числом (желательно положительным);\n",
    "        path_to_file - путь к файлу, где хранятся данные о всех входах пользователей в игру;\n",
    "            это должен быть csv-файл с разделителем \";\", состоящий из 2 столбцов: 'auth_ts' со временем \n",
    "            входа в игру (в форме UNIX-таймстемпа) и 'uid' с идентификаторами пользователей;\n",
    "        timezone - существующий часовой пояс в виде строки;\n",
    "        limit - нижний предел численности когорт (если мы считаем целесообразным брать для расчётов\n",
    "            только когорты выше определённой численности);\n",
    "        start_cohort - начальная когорта периода, за который мы считаем retention (формат ввода 'YYYY-MM-DD');\n",
    "        end_cohort - конечная когорта периода, за который мы считаем retention (формат ввода 'YYYY-MM-DD');\n",
    "        bootstrap_size - число подвыборок, которые мы берём при вычислении доверительного интервала для\n",
    "            retention;\n",
    "        bootstrap_ci - уровень доверия, с которым мы определяем retention.\n",
    "    '''\n",
    "    \n",
    "    # Стартовые проверки на осмысленность входных значений аргументов.\n",
    "    if not isinstance(n, int):\n",
    "        print('Ошибка. n должно быть целым числом.\\n')\n",
    "        return\n",
    "    \n",
    "    elif n < 0:\n",
    "        print('Нет большого смысла в отрицательном n. Нельзя войти в игру раньше первого входа.\\n\\\n",
    "Но если хотите, можем посчитать.\\n')\n",
    "        \n",
    "    elif n == 0:\n",
    "        print('Нет большого смысла в n=0. Retention нулевого дня всегда 100%.\\n\\\n",
    "Но если хотите, можем посчитать.\\n')\n",
    "        \n",
    "    if not isinstance(bootstrap_size, int):\n",
    "        print('Ошибка. bootstrap_size должно быть целым числом.\\n')\n",
    "        return\n",
    "    \n",
    "    elif bootstrap_size <= 0:\n",
    "        print('Ошибка. bootstrap_size должно быть положительным числом.\\n')\n",
    "        return\n",
    "    \n",
    "    if not isinstance(bootstrap_ci, (int, float)):\n",
    "        print('Ошибка. bootstrap_ci должно быть числом.\\n')\n",
    "        return\n",
    "    \n",
    "    elif not (0 <= bootstrap_ci <= 1):\n",
    "        print('Ошибка. bootstrap_ci должно быть числом от 0 до 1.\\n')\n",
    "        return\n",
    "        \n",
    "    if not isinstance(limit, (int, float)):\n",
    "        print('Ошибка. Предел численности когорт должен быть числом.\\n')\n",
    "        return\n",
    "        \n",
    "    if limit < 0:\n",
    "        print('Нет большого смысла в отрицательном пределе численности когорт.\\n\\\n",
    "Этот показатель не может быть меньше 0.\\n\\\n",
    "Но если хотите, можем посчитать.\\n')\n",
    "    \n",
    "    if not timezone in pytz.all_timezones:\n",
    "        print('Ошибка. Неизвестная таймзона.\\n')\n",
    "        return\n",
    "    \n",
    "    if not start_cohort == None:\n",
    "        try:\n",
    "            datetime.strptime(start_cohort, '%Y-%m-%d')\n",
    "    \n",
    "        except Exception:\n",
    "            print(\"Ошибка. Начальная когорта для расчётов должна быть заведена в формате 'YYYY-MM-DD'\\n\\\n",
    "и должна являться валидной датой.\\n\")\n",
    "            return\n",
    "        \n",
    "    if not end_cohort == None:\n",
    "        try:\n",
    "            datetime.strptime(end_cohort, '%Y-%m-%d')\n",
    "    \n",
    "        except Exception:\n",
    "            print(\"Ошибка. Конечная когорта для расчётов должна быть заведена в формате 'YYYY-MM-DD'\\n\\\n",
    "и должна являться валидной датой.\\n\")\n",
    "            return\n",
    "    \n",
    "    try:\n",
    "        \n",
    "        # Считываем данные.\n",
    "        authorization_data = pd.read_csv(path_to_file, sep=';') \n",
    "\n",
    "        # Переводим UNIX-таймстемпы в наше локальное время.\n",
    "        authorization_data['auth_date'] = pd.to_datetime(authorization_data['auth_ts'], unit='s') \\\n",
    "            .dt.tz_localize('UTC') \\\n",
    "            .dt.tz_convert(timezone) \n",
    "\n",
    "        # Если период вычислений не задан, берём в этом качестве самую первую и самую последнюю запись.\n",
    "        if start_cohort == None:\n",
    "            start_cohort_dt = authorization_data['auth_date'].min().date()\n",
    "        else:\n",
    "            start_cohort_dt = pd.to_datetime(start_cohort).date()\n",
    "\n",
    "        if end_cohort == None:\n",
    "            end_cohort_dt = authorization_data['auth_date'].max().date()\n",
    "        else:\n",
    "            end_cohort_dt = pd.to_datetime(end_cohort).date()\n",
    "\n",
    "        # Определяем время первого входа в игру для каждого пользователя.\n",
    "        first_auth = authorization_data \\\n",
    "            .groupby('uid', as_index=False) \\\n",
    "            .auth_date \\\n",
    "            .min() \\\n",
    "            .rename(columns={'auth_date': 'first_auth'})\n",
    "\n",
    "        # Отфильтровываем период для расчёта (если нужно).\n",
    "        if (\n",
    "               start_cohort_dt != authorization_data['auth_date'].min().date() \n",
    "            or end_cohort_dt != authorization_data['auth_date'].max().date()\n",
    "        ):\n",
    "            first_auth = first_auth.loc[\n",
    "                    (first_auth.first_auth.dt.date >= start_cohort_dt) \n",
    "                & (first_auth.first_auth.dt.date <= end_cohort_dt)\n",
    "            ]\n",
    "\n",
    "        # Разобьём пользователей на когорты по дням. \n",
    "        # Для производительности будем хранить ID пользователей во множествах. \n",
    "        first_auth_by_day_users = first_auth \\\n",
    "            .resample(rule='D', on='first_auth') \\\n",
    "            .agg({'uid': set}) \\\n",
    "            .reset_index() \\\n",
    "            .rename(columns={'first_auth': 'cohort', 'uid': 'users_set'})\n",
    "\n",
    "        # Посчитаем количество уникальных пользователей в каждой когорте.\n",
    "        first_auth_by_day_users['users'] = first_auth_by_day_users['users_set'].apply(len)\n",
    "\n",
    "        # Отфильтруем слишком маленькие когорты (если нужно).\n",
    "        if limit > 0:\n",
    "            first_auth_by_day_users = first_auth_by_day_users.loc[first_auth_by_day_users.users >= limit]\n",
    "\n",
    "        # Для удобства вычислений переведём формат данных в дни.\n",
    "        first_auth_by_day_users['cohort'] = first_auth_by_day_users['cohort'].dt.tz_localize(None)\n",
    "\n",
    "        # Посчитаем для каждой когорты n-ный день (тот, на который мы определяем retention).\n",
    "        first_auth_by_day_users['n_day'] = first_auth_by_day_users['cohort'] + timedelta(days=n)\n",
    "\n",
    "        # Посмотрим, какие пользователи заходили в игру в каждый из дней.\n",
    "        # Использование множеств обеспечит уникальность.\n",
    "        auth_by_day_users = authorization_data \\\n",
    "            .resample(rule='D', on='auth_date') \\\n",
    "            .agg({'uid': set}) \\\n",
    "            .reset_index() \\\n",
    "            .rename(columns={'auth_date': 'n_day', 'uid': 'n_day_users_set'})\n",
    "\n",
    "        # Также переведём формат данных в дни.\n",
    "        auth_by_day_users['n_day'] = auth_by_day_users['n_day'].dt.tz_localize(None)\n",
    "\n",
    "        # Соединим данные о когортах с данными о посещениях в n-ый день.\n",
    "        # Когорты, где n-ный день ещё не настал и не попал в данные, придётся дропнуть.\n",
    "        merged_data = first_auth_by_day_users \\\n",
    "            .merge(auth_by_day_users, on='n_day', how='left') \\\n",
    "            .dropna()\n",
    "\n",
    "        # Посчитаем, сколько уникальных пользователей из каждой когорты заходили в игру на n-ный день.\n",
    "        merged_data['recurrent_n_day_users'] = merged_data \\\n",
    "            .apply(lambda x: len(x['users_set'].intersection(x['n_day_users_set'])), axis=1)\n",
    "\n",
    "        # Теперь у нас есть все данные для расчёта retention.\n",
    "        RR = merged_data.recurrent_n_day_users.sum() / merged_data.users.sum()\n",
    "        \n",
    "        # Определим доверительный интервал для retention. Наши данные могут оказаться распределены \n",
    "        # любым образом и не подходить для применения обычных (как параметрических, так и непараметрических)\n",
    "        # статистических тестов. Поэтому используем бутстрап.\n",
    "        RR_list = []\n",
    "        merged_data_subset = merged_data[['users', 'recurrent_n_day_users']] # Оставим только нужное.\n",
    "        \n",
    "        # Возьмём подвыборки с повторением из нашего датафрейма для расчёта retention\n",
    "        # и получим серию значений retention.\n",
    "        for i in range(bootstrap_size):\n",
    "            sampled_df = merged_data_subset.sample(frac=1, replace=True)\n",
    "            sampled_RR = sampled_df.recurrent_n_day_users.sum() / sampled_df.users.sum()\n",
    "            RR_list.append(sampled_RR)\n",
    "        \n",
    "        RR_series = pd.Series(RR_list)\n",
    "        \n",
    "        # Из этой серии расчитаем границы доверительного интервала и бутстрапированное среднее.\n",
    "        ci_low = RR_series.quantile(q=(1-bootstrap_ci)/2) # Нижняя граница ДИ. \n",
    "        ci_high = RR_series.quantile(q=1-(1-bootstrap_ci)/2) # Верхняя граница ДИ.\n",
    "        bootstrap_mean = RR_series.mean() # Бутстрапированное среднее.\n",
    "        \n",
    "        return RR, ci_low, ci_high, bootstrap_mean\n",
    "        \n",
    "    except ValueError:\n",
    "        \n",
    "        print('Ошибка. Нет данных за требуемый промежуток времени;\\n\\\n",
    "либо слишком высокий предел численности когорты.\\n\\n\\\n",
    "И проверьте, что за файл Вы подаёте на вход.\\n')\n",
    "        \n",
    "        return\n",
    "    \n",
    "    except FileNotFoundError:\n",
    "        \n",
    "        print('Ошибка. По указанному адресу файл не найден.\\n')\n",
    "        \n",
    "        return\n",
    "    \n",
    "    except KeyError:\n",
    "        \n",
    "        print('Ошибка. Заголовки столбцов не те. Это точно нужный файл?\\n')\n",
    "        \n",
    "        return\n",
    "    \n",
    "    except Exception:\n",
    "        \n",
    "        print('Ошибка. Неизвестная ошибка.\\n')\n",
    "        \n",
    "        return"
   ]
  },
  {
   "cell_type": "markdown",
   "metadata": {},
   "source": [
    "## Проверка работоспособности"
   ]
  },
  {
   "cell_type": "markdown",
   "metadata": {},
   "source": [
    "Протестируем работоспособность функции в разных ситуациях. Будем заодно засекать её быстродействие.\n",
    "___\n",
    "Подсчитаем retention 15 дня за весь период наблюдений:"
   ]
  },
  {
   "cell_type": "code",
   "execution_count": 26,
   "metadata": {},
   "outputs": [
    {
     "name": "stdout",
     "output_type": "stream",
     "text": [
      "Retention: 4.57%, доверительный интервал: (4.53%, 4.61%).\n",
      "Время выполнения: 25.67 сек.\n"
     ]
    }
   ],
   "source": [
    "start_time = time.time()\n",
    "retention_value = retention_rate(15)\n",
    "if retention_value is not None:\n",
    "    RR, ci_low, ci_high, bootstrap_mean = retention_value \n",
    "    print(f\"Retention: {RR:.2%}, доверительный интервал: ({ci_low:.2%}, {ci_high:.2%}).\")\n",
    "end_time = time.time()\n",
    "print(f\"Время выполнения: {end_time - start_time:.2f} сек.\")"
   ]
  },
  {
   "cell_type": "markdown",
   "metadata": {},
   "source": [
    "___\n",
    "Теперь подсчитаем retention 10 дня за весь период наблюдений:"
   ]
  },
  {
   "cell_type": "code",
   "execution_count": 27,
   "metadata": {},
   "outputs": [
    {
     "name": "stdout",
     "output_type": "stream",
     "text": [
      "Retention: 5.17%, доверительный интервал: (5.12%, 5.21%).\n",
      "Время выполнения: 25.83 сек.\n"
     ]
    }
   ],
   "source": [
    "start_time = time.time()\n",
    "retention_value = retention_rate(10)\n",
    "if retention_value is not None:\n",
    "    RR, ci_low, ci_high, bootstrap_mean = retention_value \n",
    "    print(f\"Retention: {RR:.2%}, доверительный интервал: ({ci_low:.2%}, {ci_high:.2%}).\")\n",
    "end_time = time.time()\n",
    "print(f\"Время выполнения: {end_time - start_time:.2f} сек.\")"
   ]
  },
  {
   "cell_type": "markdown",
   "metadata": {},
   "source": [
    "___\n",
    "Предположим, мы изменим часовой пояс:"
   ]
  },
  {
   "cell_type": "code",
   "execution_count": 28,
   "metadata": {},
   "outputs": [
    {
     "name": "stdout",
     "output_type": "stream",
     "text": [
      "Retention: 5.16%, доверительный интервал: (5.11%, 5.20%).\n",
      "Время выполнения: 26.14 сек.\n"
     ]
    }
   ],
   "source": [
    "start_time = time.time()\n",
    "retention_value = retention_rate(10, timezone='Asia/Yekaterinburg')\n",
    "if retention_value is not None:\n",
    "    RR, ci_low, ci_high, bootstrap_mean = retention_value \n",
    "    print(f\"Retention: {RR:.2%}, доверительный интервал: ({ci_low:.2%}, {ci_high:.2%}).\")\n",
    "end_time = time.time()\n",
    "print(f\"Время выполнения: {end_time - start_time:.2f} сек.\")"
   ]
  },
  {
   "cell_type": "markdown",
   "metadata": {},
   "source": [
    "___\n",
    "Теперь добавим ограничение на размер когорт (если мы не хотим брать слишком маленькие):"
   ]
  },
  {
   "cell_type": "code",
   "execution_count": 29,
   "metadata": {},
   "outputs": [
    {
     "name": "stdout",
     "output_type": "stream",
     "text": [
      "Retention: 5.16%, доверительный интервал: (5.12%, 5.21%).\n",
      "Время выполнения: 24.20 сек.\n"
     ]
    }
   ],
   "source": [
    "start_time = time.time()\n",
    "retention_value = retention_rate(10, timezone='Asia/Yekaterinburg', limit=100)\n",
    "if retention_value is not None:\n",
    "    RR, ci_low, ci_high, bootstrap_mean = retention_value \n",
    "    print(f\"Retention: {RR:.2%}, доверительный интервал: ({ci_low:.2%}, {ci_high:.2%}).\")\n",
    "end_time = time.time()\n",
    "print(f\"Время выполнения: {end_time - start_time:.2f} сек.\")"
   ]
  },
  {
   "cell_type": "markdown",
   "metadata": {},
   "source": [
    "___\n",
    "Добавим нижнюю границу периода наблюдений:"
   ]
  },
  {
   "cell_type": "code",
   "execution_count": 30,
   "metadata": {},
   "outputs": [
    {
     "name": "stdout",
     "output_type": "stream",
     "text": [
      "Retention: 5.19%, доверительный интервал: (5.12%, 5.26%).\n",
      "Время выполнения: 24.30 сек.\n"
     ]
    }
   ],
   "source": [
    "start_time = time.time()\n",
    "retention_value = retention_rate(\n",
    "    10, \n",
    "    timezone='Asia/Yekaterinburg', \n",
    "    limit=100, \n",
    "    start_cohort='2020-01-01'\n",
    ")\n",
    "if retention_value is not None:\n",
    "    RR, ci_low, ci_high, bootstrap_mean = retention_value \n",
    "    print(f\"Retention: {RR:.2%}, доверительный интервал: ({ci_low:.2%}, {ci_high:.2%}).\")\n",
    "end_time = time.time()\n",
    "print(f\"Время выполнения: {end_time - start_time:.2f} сек.\")"
   ]
  },
  {
   "cell_type": "markdown",
   "metadata": {},
   "source": [
    "___\n",
    "Добавим верхнюю границу периода наблюдений:"
   ]
  },
  {
   "cell_type": "code",
   "execution_count": 31,
   "metadata": {},
   "outputs": [
    {
     "name": "stdout",
     "output_type": "stream",
     "text": [
      "Retention: 4.95%, доверительный интервал: (4.69%, 5.21%).\n",
      "Время выполнения: 24.11 сек.\n"
     ]
    }
   ],
   "source": [
    "start_time = time.time()\n",
    "retention_value = retention_rate(\n",
    "    10, \n",
    "    timezone='Asia/Yekaterinburg', \n",
    "    limit=100, \n",
    "    start_cohort='2019-09-01',\n",
    "    end_cohort='2019-09-30'\n",
    ")\n",
    "if retention_value is not None:\n",
    "    RR, ci_low, ci_high, bootstrap_mean = retention_value \n",
    "    print(f\"Retention: {RR:.2%}, доверительный интервал: ({ci_low:.2%}, {ci_high:.2%}).\")\n",
    "end_time = time.time()\n",
    "print(f\"Время выполнения: {end_time - start_time:.2f} сек.\")"
   ]
  },
  {
   "cell_type": "markdown",
   "metadata": {},
   "source": [
    "___\n",
    "Попробуем указать промежуток за пределами имеющихся данных:"
   ]
  },
  {
   "cell_type": "code",
   "execution_count": 32,
   "metadata": {},
   "outputs": [
    {
     "name": "stdout",
     "output_type": "stream",
     "text": [
      "Ошибка. Нет данных за требуемый промежуток времени;\n",
      "либо слишком высокий предел численности когорты.\n",
      "\n",
      "И проверьте, что за файл Вы подаёте на вход.\n",
      "\n",
      "Время выполнения: 22.12 сек.\n"
     ]
    }
   ],
   "source": [
    "start_time = time.time()\n",
    "retention_value = retention_rate(\n",
    "    10,\n",
    "    start_cohort='2025-01-01'\n",
    ")\n",
    "if retention_value is not None:\n",
    "    RR, ci_low, ci_high, bootstrap_mean = retention_value \n",
    "    print(f\"Retention: {RR:.2%}, доверительный интервал: ({ci_low:.2%}, {ci_high:.2%}).\")\n",
    "end_time = time.time()\n",
    "print(f\"Время выполнения: {end_time - start_time:.2f} сек.\")"
   ]
  },
  {
   "cell_type": "markdown",
   "metadata": {},
   "source": [
    "___\n",
    "Попробуем указать слишком большой предел численности когорты в тот период, где когорт с численностью выше нет:"
   ]
  },
  {
   "cell_type": "code",
   "execution_count": 33,
   "metadata": {},
   "outputs": [
    {
     "name": "stdout",
     "output_type": "stream",
     "text": [
      "Ошибка. Нет данных за требуемый промежуток времени;\n",
      "либо слишком высокий предел численности когорты.\n",
      "\n",
      "И проверьте, что за файл Вы подаёте на вход.\n",
      "\n",
      "Время выполнения: 21.93 сек.\n"
     ]
    }
   ],
   "source": [
    "start_time = time.time()\n",
    "retention_value = retention_rate(\n",
    "    10,\n",
    "    limit=100, \n",
    "    start_cohort='2010-07-01',\n",
    "    end_cohort='2010-12-31'\n",
    ")\n",
    "if retention_value is not None:\n",
    "    RR, ci_low, ci_high, bootstrap_mean = retention_value \n",
    "    print(f\"Retention: {RR:.2%}, доверительный интервал: ({ci_low:.2%}, {ci_high:.2%}).\")\n",
    "end_time = time.time()\n",
    "print(f\"Время выполнения: {end_time - start_time:.2f} сек.\")"
   ]
  },
  {
   "cell_type": "markdown",
   "metadata": {},
   "source": [
    "___\n",
    "Попробуем указать невалидную таймзону:"
   ]
  },
  {
   "cell_type": "code",
   "execution_count": 34,
   "metadata": {},
   "outputs": [
    {
     "name": "stdout",
     "output_type": "stream",
     "text": [
      "Ошибка. Неизвестная таймзона.\n",
      "\n",
      "Время выполнения: 0.00 сек.\n"
     ]
    }
   ],
   "source": [
    "start_time = time.time()\n",
    "retention_value = retention_rate(10, timezone='MyHomeTimezone')\n",
    "if retention_value is not None:\n",
    "    RR, ci_low, ci_high, bootstrap_mean = retention_value \n",
    "    print(f\"Retention: {RR:.2%}, доверительный интервал: ({ci_low:.2%}, {ci_high:.2%}).\")\n",
    "end_time = time.time()\n",
    "print(f\"Время выполнения: {end_time - start_time:.2f} сек.\")"
   ]
  },
  {
   "cell_type": "markdown",
   "metadata": {},
   "source": [
    "___\n",
    "Попробуем подсчитать retention на отрицательный день:"
   ]
  },
  {
   "cell_type": "code",
   "execution_count": 35,
   "metadata": {},
   "outputs": [
    {
     "name": "stdout",
     "output_type": "stream",
     "text": [
      "Нет большого смысла в отрицательном n. Нельзя войти в игру раньше первого входа.\n",
      "Но если хотите, можем посчитать.\n",
      "\n",
      "Retention: 0.00%, доверительный интервал: (0.00%, 0.00%).\n",
      "Время выполнения: 25.63 сек.\n"
     ]
    }
   ],
   "source": [
    "start_time = time.time()\n",
    "retention_value = retention_rate(-2)\n",
    "if retention_value is not None:\n",
    "    RR, ci_low, ci_high, bootstrap_mean = retention_value \n",
    "    print(f\"Retention: {RR:.2%}, доверительный интервал: ({ci_low:.2%}, {ci_high:.2%}).\")\n",
    "end_time = time.time()\n",
    "print(f\"Время выполнения: {end_time - start_time:.2f} сек.\")"
   ]
  },
  {
   "cell_type": "markdown",
   "metadata": {},
   "source": [
    "___\n",
    "Попробуем подсчитать retention на нулевой день:"
   ]
  },
  {
   "cell_type": "code",
   "execution_count": 36,
   "metadata": {},
   "outputs": [
    {
     "name": "stdout",
     "output_type": "stream",
     "text": [
      "Нет большого смысла в n=0. Retention нулевого дня всегда 100%.\n",
      "Но если хотите, можем посчитать.\n",
      "\n",
      "Retention: 100.00%, доверительный интервал: (100.00%, 100.00%).\n",
      "Время выполнения: 25.67 сек.\n"
     ]
    }
   ],
   "source": [
    "start_time = time.time()\n",
    "retention_value = retention_rate(0)\n",
    "if retention_value is not None:\n",
    "    RR, ci_low, ci_high, bootstrap_mean = retention_value \n",
    "    print(f\"Retention: {RR:.2%}, доверительный интервал: ({ci_low:.2%}, {ci_high:.2%}).\")\n",
    "end_time = time.time()\n",
    "print(f\"Время выполнения: {end_time - start_time:.2f} сек.\")"
   ]
  },
  {
   "cell_type": "markdown",
   "metadata": {},
   "source": [
    "___\n",
    "Попробуем указать дробное значение n:"
   ]
  },
  {
   "cell_type": "code",
   "execution_count": 37,
   "metadata": {},
   "outputs": [
    {
     "name": "stdout",
     "output_type": "stream",
     "text": [
      "Ошибка. n должно быть целым числом.\n",
      "\n",
      "Время выполнения: 0.00 сек.\n"
     ]
    }
   ],
   "source": [
    "start_time = time.time()\n",
    "retention_value = retention_rate(2.28)\n",
    "if retention_value is not None:\n",
    "    RR, ci_low, ci_high, bootstrap_mean = retention_value \n",
    "    print(f\"Retention: {RR:.2%}, доверительный интервал: ({ci_low:.2%}, {ci_high:.2%}).\")\n",
    "end_time = time.time()\n",
    "print(f\"Время выполнения: {end_time - start_time:.2f} сек.\")"
   ]
  },
  {
   "cell_type": "markdown",
   "metadata": {},
   "source": [
    "___\n",
    "Попробуем указать отрицательный предел численности когорт:"
   ]
  },
  {
   "cell_type": "code",
   "execution_count": 38,
   "metadata": {},
   "outputs": [
    {
     "name": "stdout",
     "output_type": "stream",
     "text": [
      "Нет большого смысла в отрицательном пределе численности когорт.\n",
      "Этот показатель не может быть меньше 0.\n",
      "Но если хотите, можем посчитать.\n",
      "\n",
      "Retention: 5.17%, доверительный интервал: (5.12%, 5.21%).\n",
      "Время выполнения: 26.32 сек.\n"
     ]
    }
   ],
   "source": [
    "start_time = time.time()\n",
    "retention_value = retention_rate(10, limit=-10)\n",
    "if retention_value is not None:\n",
    "    RR, ci_low, ci_high, bootstrap_mean = retention_value \n",
    "    print(f\"Retention: {RR:.2%}, доверительный интервал: ({ci_low:.2%}, {ci_high:.2%}).\")\n",
    "end_time = time.time()\n",
    "print(f\"Время выполнения: {end_time - start_time:.2f} сек.\")"
   ]
  },
  {
   "cell_type": "markdown",
   "metadata": {},
   "source": [
    "___\n",
    "Попробуем указать слишком большое n (наши наблюдения не охватывают такой период):"
   ]
  },
  {
   "cell_type": "code",
   "execution_count": 39,
   "metadata": {},
   "outputs": [
    {
     "name": "stdout",
     "output_type": "stream",
     "text": [
      "Ошибка. Нет данных за требуемый промежуток времени;\n",
      "либо слишком высокий предел численности когорты.\n",
      "\n",
      "И проверьте, что за файл Вы подаёте на вход.\n",
      "\n",
      "Время выполнения: 21.76 сек.\n"
     ]
    }
   ],
   "source": [
    "start_time = time.time()\n",
    "retention_value = retention_rate(10000)\n",
    "if retention_value is not None:\n",
    "    RR, ci_low, ci_high, bootstrap_mean = retention_value \n",
    "    print(f\"Retention: {RR:.2%}, доверительный интервал: ({ci_low:.2%}, {ci_high:.2%}).\")\n",
    "end_time = time.time()\n",
    "print(f\"Время выполнения: {end_time - start_time:.2f} сек.\")"
   ]
  },
  {
   "cell_type": "markdown",
   "metadata": {},
   "source": [
    "___\n",
    "Попробуем указать период наблюдений в неверном формате:"
   ]
  },
  {
   "cell_type": "code",
   "execution_count": 40,
   "metadata": {},
   "outputs": [
    {
     "name": "stdout",
     "output_type": "stream",
     "text": [
      "Ошибка. Конечная когорта для расчётов должна быть заведена в формате 'YYYY-MM-DD'\n",
      "и должна являться валидной датой.\n",
      "\n",
      "Время выполнения: 0.00 сек.\n"
     ]
    }
   ],
   "source": [
    "start_time = time.time()\n",
    "retention_value = retention_rate(10, end_cohort='31/12/2019')\n",
    "if retention_value is not None:\n",
    "    RR, ci_low, ci_high, bootstrap_mean = retention_value \n",
    "    print(f\"Retention: {RR:.2%}, доверительный интервал: ({ci_low:.2%}, {ci_high:.2%}).\")\n",
    "end_time = time.time()\n",
    "print(f\"Время выполнения: {end_time - start_time:.2f} сек.\")"
   ]
  },
  {
   "cell_type": "markdown",
   "metadata": {},
   "source": [
    "___\n",
    "Попробуем указать период наблюдений во внешне верном, но не являющемся валидной датой формате:"
   ]
  },
  {
   "cell_type": "code",
   "execution_count": 41,
   "metadata": {},
   "outputs": [
    {
     "name": "stdout",
     "output_type": "stream",
     "text": [
      "Ошибка. Начальная когорта для расчётов должна быть заведена в формате 'YYYY-MM-DD'\n",
      "и должна являться валидной датой.\n",
      "\n",
      "Время выполнения: 0.00 сек.\n"
     ]
    }
   ],
   "source": [
    "start_time = time.time()\n",
    "retention_value = retention_rate(10, start_cohort='2019-02-29')\n",
    "if retention_value is not None:\n",
    "    RR, ci_low, ci_high, bootstrap_mean = retention_value \n",
    "    print(f\"Retention: {RR:.2%}, доверительный интервал: ({ci_low:.2%}, {ci_high:.2%}).\")\n",
    "end_time = time.time()\n",
    "print(f\"Время выполнения: {end_time - start_time:.2f} сек.\")"
   ]
  },
  {
   "cell_type": "markdown",
   "metadata": {},
   "source": [
    "___\n",
    "Попробуем подать на вход функции другой файл:"
   ]
  },
  {
   "cell_type": "code",
   "execution_count": 42,
   "metadata": {},
   "outputs": [
    {
     "name": "stdout",
     "output_type": "stream",
     "text": [
      "Ошибка. Заголовки столбцов не те. Это точно нужный файл?\n",
      "\n",
      "Время выполнения: 2.38 сек.\n"
     ]
    }
   ],
   "source": [
    "start_time = time.time()\n",
    "retention_value = retention_rate(\n",
    "    10, \n",
    "    path_to_file=\"https://stepik.org/media/attachments/lesson/383540/invoices.csv\"\n",
    ")\n",
    "if retention_value is not None:\n",
    "    RR, ci_low, ci_high, bootstrap_mean = retention_value \n",
    "    print(f\"Retention: {RR:.2%}, доверительный интервал: ({ci_low:.2%}, {ci_high:.2%}).\")\n",
    "end_time = time.time()\n",
    "print(f\"Время выполнения: {end_time - start_time:.2f} сек.\")"
   ]
  },
  {
   "cell_type": "markdown",
   "metadata": {},
   "source": [
    "___\n",
    "Попробуем подать неподходящие число подвыборок:"
   ]
  },
  {
   "cell_type": "code",
   "execution_count": 43,
   "metadata": {},
   "outputs": [
    {
     "name": "stdout",
     "output_type": "stream",
     "text": [
      "Ошибка. bootstrap_size должно быть положительным числом.\n",
      "\n",
      "Время выполнения: 0.00 сек.\n"
     ]
    }
   ],
   "source": [
    "start_time = time.time()\n",
    "retention_value = retention_rate(\n",
    "    10, \n",
    "    bootstrap_size=-2000\n",
    ")\n",
    "if retention_value is not None:\n",
    "    RR, ci_low, ci_high, bootstrap_mean = retention_value \n",
    "    print(f\"Retention: {RR:.2%}, доверительный интервал: ({ci_low:.2%}, {ci_high:.2%}).\")\n",
    "end_time = time.time()\n",
    "print(f\"Время выполнения: {end_time - start_time:.2f} сек.\")"
   ]
  },
  {
   "cell_type": "markdown",
   "metadata": {},
   "source": [
    "Попробуем указать неверный уровень доверия: "
   ]
  },
  {
   "cell_type": "code",
   "execution_count": 44,
   "metadata": {},
   "outputs": [
    {
     "name": "stdout",
     "output_type": "stream",
     "text": [
      "Ошибка. bootstrap_ci должно быть числом от 0 до 1.\n",
      "\n",
      "Время выполнения: 0.00 сек.\n"
     ]
    }
   ],
   "source": [
    "start_time = time.time()\n",
    "retention_value = retention_rate(\n",
    "    10, \n",
    "    bootstrap_ci=95\n",
    ")\n",
    "if retention_value is not None:\n",
    "    RR, ci_low, ci_high, bootstrap_mean = retention_value \n",
    "    print(f\"Retention: {RR:.2%}, доверительный интервал: ({ci_low:.2%}, {ci_high:.2%}).\")\n",
    "end_time = time.time()\n",
    "print(f\"Время выполнения: {end_time - start_time:.2f} сек.\")"
   ]
  },
  {
   "cell_type": "markdown",
   "metadata": {},
   "source": [
    "## Пример использования функции\n",
    "Попробуем с помощью функции решить практическую задачу: постоить график изменения retention для пользователей, зарегистрировавшихся в 2019 году. Посмотрим retention первых 15 дней; 20, 30, 45 и 60 дня. (Расчёт займёт несколько минут.)"
   ]
  },
  {
   "cell_type": "code",
   "execution_count": 45,
   "metadata": {},
   "outputs": [
    {
     "name": "stdout",
     "output_type": "stream",
     "text": [
      "Нет большого смысла в n=0. Retention нулевого дня всегда 100%.\n",
      "Но если хотите, можем посчитать.\n",
      "\n"
     ]
    },
    {
     "data": {
      "text/html": [
       "<div>\n",
       "<style scoped>\n",
       "    .dataframe tbody tr th:only-of-type {\n",
       "        vertical-align: middle;\n",
       "    }\n",
       "\n",
       "    .dataframe tbody tr th {\n",
       "        vertical-align: top;\n",
       "    }\n",
       "\n",
       "    .dataframe thead th {\n",
       "        text-align: right;\n",
       "    }\n",
       "</style>\n",
       "<table border=\"1\" class=\"dataframe\">\n",
       "  <thead>\n",
       "    <tr style=\"text-align: right;\">\n",
       "      <th></th>\n",
       "      <th>n_day</th>\n",
       "      <th>retention</th>\n",
       "      <th>ci_low</th>\n",
       "      <th>ci_high</th>\n",
       "      <th>bootstrap_mean</th>\n",
       "    </tr>\n",
       "  </thead>\n",
       "  <tbody>\n",
       "    <tr>\n",
       "      <th>0</th>\n",
       "      <td>0</td>\n",
       "      <td>1.000000</td>\n",
       "      <td>1.000000</td>\n",
       "      <td>1.000000</td>\n",
       "      <td>1.000000</td>\n",
       "    </tr>\n",
       "    <tr>\n",
       "      <th>1</th>\n",
       "      <td>1</td>\n",
       "      <td>0.020111</td>\n",
       "      <td>0.019606</td>\n",
       "      <td>0.020606</td>\n",
       "      <td>0.020111</td>\n",
       "    </tr>\n",
       "    <tr>\n",
       "      <th>2</th>\n",
       "      <td>2</td>\n",
       "      <td>0.041078</td>\n",
       "      <td>0.040380</td>\n",
       "      <td>0.041777</td>\n",
       "      <td>0.041080</td>\n",
       "    </tr>\n",
       "    <tr>\n",
       "      <th>3</th>\n",
       "      <td>3</td>\n",
       "      <td>0.046588</td>\n",
       "      <td>0.045876</td>\n",
       "      <td>0.047291</td>\n",
       "      <td>0.046589</td>\n",
       "    </tr>\n",
       "    <tr>\n",
       "      <th>4</th>\n",
       "      <td>4</td>\n",
       "      <td>0.052456</td>\n",
       "      <td>0.051611</td>\n",
       "      <td>0.053322</td>\n",
       "      <td>0.052455</td>\n",
       "    </tr>\n",
       "    <tr>\n",
       "      <th>5</th>\n",
       "      <td>5</td>\n",
       "      <td>0.060207</td>\n",
       "      <td>0.059365</td>\n",
       "      <td>0.061053</td>\n",
       "      <td>0.060207</td>\n",
       "    </tr>\n",
       "    <tr>\n",
       "      <th>6</th>\n",
       "      <td>6</td>\n",
       "      <td>0.068864</td>\n",
       "      <td>0.067941</td>\n",
       "      <td>0.069760</td>\n",
       "      <td>0.068862</td>\n",
       "    </tr>\n",
       "    <tr>\n",
       "      <th>7</th>\n",
       "      <td>7</td>\n",
       "      <td>0.059454</td>\n",
       "      <td>0.058578</td>\n",
       "      <td>0.060326</td>\n",
       "      <td>0.059460</td>\n",
       "    </tr>\n",
       "    <tr>\n",
       "      <th>8</th>\n",
       "      <td>8</td>\n",
       "      <td>0.048076</td>\n",
       "      <td>0.047313</td>\n",
       "      <td>0.048871</td>\n",
       "      <td>0.048080</td>\n",
       "    </tr>\n",
       "    <tr>\n",
       "      <th>9</th>\n",
       "      <td>9</td>\n",
       "      <td>0.050604</td>\n",
       "      <td>0.049796</td>\n",
       "      <td>0.051403</td>\n",
       "      <td>0.050600</td>\n",
       "    </tr>\n",
       "    <tr>\n",
       "      <th>10</th>\n",
       "      <td>10</td>\n",
       "      <td>0.051037</td>\n",
       "      <td>0.050192</td>\n",
       "      <td>0.051870</td>\n",
       "      <td>0.051038</td>\n",
       "    </tr>\n",
       "    <tr>\n",
       "      <th>11</th>\n",
       "      <td>11</td>\n",
       "      <td>0.052250</td>\n",
       "      <td>0.051422</td>\n",
       "      <td>0.053058</td>\n",
       "      <td>0.052253</td>\n",
       "    </tr>\n",
       "    <tr>\n",
       "      <th>12</th>\n",
       "      <td>12</td>\n",
       "      <td>0.050618</td>\n",
       "      <td>0.049773</td>\n",
       "      <td>0.051457</td>\n",
       "      <td>0.050614</td>\n",
       "    </tr>\n",
       "    <tr>\n",
       "      <th>13</th>\n",
       "      <td>13</td>\n",
       "      <td>0.049361</td>\n",
       "      <td>0.048558</td>\n",
       "      <td>0.050163</td>\n",
       "      <td>0.049358</td>\n",
       "    </tr>\n",
       "    <tr>\n",
       "      <th>14</th>\n",
       "      <td>14</td>\n",
       "      <td>0.045362</td>\n",
       "      <td>0.044585</td>\n",
       "      <td>0.046142</td>\n",
       "      <td>0.045365</td>\n",
       "    </tr>\n",
       "    <tr>\n",
       "      <th>15</th>\n",
       "      <td>15</td>\n",
       "      <td>0.045980</td>\n",
       "      <td>0.045222</td>\n",
       "      <td>0.046722</td>\n",
       "      <td>0.045979</td>\n",
       "    </tr>\n",
       "    <tr>\n",
       "      <th>16</th>\n",
       "      <td>20</td>\n",
       "      <td>0.039748</td>\n",
       "      <td>0.039048</td>\n",
       "      <td>0.040442</td>\n",
       "      <td>0.039748</td>\n",
       "    </tr>\n",
       "    <tr>\n",
       "      <th>17</th>\n",
       "      <td>30</td>\n",
       "      <td>0.027817</td>\n",
       "      <td>0.027256</td>\n",
       "      <td>0.028372</td>\n",
       "      <td>0.027819</td>\n",
       "    </tr>\n",
       "    <tr>\n",
       "      <th>18</th>\n",
       "      <td>45</td>\n",
       "      <td>0.014250</td>\n",
       "      <td>0.013807</td>\n",
       "      <td>0.014716</td>\n",
       "      <td>0.014255</td>\n",
       "    </tr>\n",
       "    <tr>\n",
       "      <th>19</th>\n",
       "      <td>60</td>\n",
       "      <td>0.012285</td>\n",
       "      <td>0.011899</td>\n",
       "      <td>0.012676</td>\n",
       "      <td>0.012290</td>\n",
       "    </tr>\n",
       "  </tbody>\n",
       "</table>\n",
       "</div>"
      ],
      "text/plain": [
       "    n_day  retention    ci_low   ci_high  bootstrap_mean\n",
       "0       0   1.000000  1.000000  1.000000        1.000000\n",
       "1       1   0.020111  0.019606  0.020606        0.020111\n",
       "2       2   0.041078  0.040380  0.041777        0.041080\n",
       "3       3   0.046588  0.045876  0.047291        0.046589\n",
       "4       4   0.052456  0.051611  0.053322        0.052455\n",
       "5       5   0.060207  0.059365  0.061053        0.060207\n",
       "6       6   0.068864  0.067941  0.069760        0.068862\n",
       "7       7   0.059454  0.058578  0.060326        0.059460\n",
       "8       8   0.048076  0.047313  0.048871        0.048080\n",
       "9       9   0.050604  0.049796  0.051403        0.050600\n",
       "10     10   0.051037  0.050192  0.051870        0.051038\n",
       "11     11   0.052250  0.051422  0.053058        0.052253\n",
       "12     12   0.050618  0.049773  0.051457        0.050614\n",
       "13     13   0.049361  0.048558  0.050163        0.049358\n",
       "14     14   0.045362  0.044585  0.046142        0.045365\n",
       "15     15   0.045980  0.045222  0.046722        0.045979\n",
       "16     20   0.039748  0.039048  0.040442        0.039748\n",
       "17     30   0.027817  0.027256  0.028372        0.027819\n",
       "18     45   0.014250  0.013807  0.014716        0.014255\n",
       "19     60   0.012285  0.011899  0.012676        0.012290"
      ]
     },
     "execution_count": 45,
     "metadata": {},
     "output_type": "execute_result"
    }
   ],
   "source": [
    "# Границы периода.\n",
    "start_date = '2019-01-01'\n",
    "end_date = '2019-12-31'\n",
    "\n",
    "# Список дней, на которые считаем retention.\n",
    "days_for_df = list(range(16)) + [20, 30, 45, 60]\n",
    "\n",
    "# Результаты работы функции retention на эти дни.\n",
    "results = [retention_rate(day, start_cohort=start_date, end_cohort=end_date) for day in days_for_df]\n",
    "retention_for_df, ci_low_for_df, ci_high_for_df, bootstrap_mean_for_df = zip(*results)\n",
    "\n",
    "# Создаём датафрейм с результатами\n",
    "df = pd.DataFrame({\n",
    "    'n_day': days_for_df, \n",
    "    'retention': retention_for_df,\n",
    "    'ci_low': ci_low_for_df,\n",
    "    'ci_high': ci_high_for_df,\n",
    "    'bootstrap_mean': bootstrap_mean_for_df\n",
    "})\n",
    "df"
   ]
  },
  {
   "cell_type": "markdown",
   "metadata": {},
   "source": [
    "Нарисуем результат."
   ]
  },
  {
   "cell_type": "code",
   "execution_count": 46,
   "metadata": {
    "scrolled": true
   },
   "outputs": [
    {
     "name": "stderr",
     "output_type": "stream",
     "text": [
      "C:\\ProgramData\\anaconda3\\Lib\\site-packages\\seaborn\\_oldcore.py:1119: FutureWarning: use_inf_as_na option is deprecated and will be removed in a future version. Convert inf values to NaN before operating instead.\n",
      "  with pd.option_context('mode.use_inf_as_na', True):\n",
      "C:\\ProgramData\\anaconda3\\Lib\\site-packages\\seaborn\\_oldcore.py:1119: FutureWarning: use_inf_as_na option is deprecated and will be removed in a future version. Convert inf values to NaN before operating instead.\n",
      "  with pd.option_context('mode.use_inf_as_na', True):\n",
      "C:\\ProgramData\\anaconda3\\Lib\\site-packages\\seaborn\\_oldcore.py:1119: FutureWarning: use_inf_as_na option is deprecated and will be removed in a future version. Convert inf values to NaN before operating instead.\n",
      "  with pd.option_context('mode.use_inf_as_na', True):\n",
      "C:\\ProgramData\\anaconda3\\Lib\\site-packages\\seaborn\\_oldcore.py:1119: FutureWarning: use_inf_as_na option is deprecated and will be removed in a future version. Convert inf values to NaN before operating instead.\n",
      "  with pd.option_context('mode.use_inf_as_na', True):\n",
      "C:\\ProgramData\\anaconda3\\Lib\\site-packages\\seaborn\\_oldcore.py:1119: FutureWarning: use_inf_as_na option is deprecated and will be removed in a future version. Convert inf values to NaN before operating instead.\n",
      "  with pd.option_context('mode.use_inf_as_na', True):\n",
      "C:\\ProgramData\\anaconda3\\Lib\\site-packages\\seaborn\\_oldcore.py:1119: FutureWarning: use_inf_as_na option is deprecated and will be removed in a future version. Convert inf values to NaN before operating instead.\n",
      "  with pd.option_context('mode.use_inf_as_na', True):\n",
      "C:\\Users\\Пользователь\\AppData\\Local\\Temp\\ipykernel_4664\\1994844498.py:18: UserWarning: set_ticklabels() should only be used with a fixed number of ticks, i.e. after set_ticks() or using a FixedLocator.\n",
      "  ax0.set_yticklabels([f'{y:.0%}' for y in yticks])\n"
     ]
    },
    {
     "data": {
      "image/png": "[encoded data removed]",
      "text/plain": [
       "<Figure size 1600x900 with 1 Axes>"
      ]
     },
     "metadata": {},
     "output_type": "display_data"
    }
   ],
   "source": [
    "# Рисуем графики.\n",
    "ax0 = sns.lineplot(data=df, x='n_day', y='retention', color='b', linewidth=1)\n",
    "ax1 = sns.lineplot(data=df, x='n_day', y='ci_low', color='g', linewidth=0.5, linestyle='--')\n",
    "ax2 = sns.lineplot(data=df, x='n_day', y='ci_high', color='g', linewidth=0.5, linestyle='--')\n",
    "\n",
    "# Считаем максимальный (не считая 0-го дня) retention.\n",
    "max_retention = df[df.n_day !=0].retention.max()\n",
    "max_day = df[df.retention == max_retention].n_day.values[0]\n",
    "\n",
    "# Делаем границы и подписи.\n",
    "ax0.set_ylim(0, round(max_retention, 1) + 0.05)\n",
    "ax0.set_title(f'Retention за период с {start_date} по {end_date}\\n')\n",
    "ax0.set_xlabel('День')\n",
    "ax0.set_ylabel('Retention')\n",
    "\n",
    "# Форматируем тики.\n",
    "yticks = ax0.get_yticks()\n",
    "ax0.set_yticklabels([f'{y:.0%}' for y in yticks])\n",
    "\n",
    "# Помечаем максимум.\n",
    "plt.plot([max_day, max_day], [0 , max_retention ], color='b', linestyle='--', linewidth=1)\n",
    "plt.text(max_day, max_retention+0.010,  f'{max_retention:.2%}', ha='left', va='top')\n",
    "\n",
    "# Зальём область между границами доверительных интервалов.\n",
    "plt.fill_between(df['n_day'], df['ci_low'], df['ci_high'], color='lightgreen', alpha=0.5)\n",
    "\n",
    "sns.despine()"
   ]
  },
  {
   "cell_type": "markdown",
   "metadata": {},
   "source": [
    "Рассмотрим не такой хороший случай: retention для пользователей, зарегистрировавшихся в 2011 году, когда пользователей было гораздо меньше."
   ]
  },
  {
   "cell_type": "code",
   "execution_count": 47,
   "metadata": {},
   "outputs": [
    {
     "name": "stdout",
     "output_type": "stream",
     "text": [
      "Нет большого смысла в n=0. Retention нулевого дня всегда 100%.\n",
      "Но если хотите, можем посчитать.\n",
      "\n"
     ]
    },
    {
     "data": {
      "text/html": [
       "<div>\n",
       "<style scoped>\n",
       "    .dataframe tbody tr th:only-of-type {\n",
       "        vertical-align: middle;\n",
       "    }\n",
       "\n",
       "    .dataframe tbody tr th {\n",
       "        vertical-align: top;\n",
       "    }\n",
       "\n",
       "    .dataframe thead th {\n",
       "        text-align: right;\n",
       "    }\n",
       "</style>\n",
       "<table border=\"1\" class=\"dataframe\">\n",
       "  <thead>\n",
       "    <tr style=\"text-align: right;\">\n",
       "      <th></th>\n",
       "      <th>n_day</th>\n",
       "      <th>retention</th>\n",
       "      <th>ci_low</th>\n",
       "      <th>ci_high</th>\n",
       "      <th>bootstrap_mean</th>\n",
       "    </tr>\n",
       "  </thead>\n",
       "  <tbody>\n",
       "    <tr>\n",
       "      <th>0</th>\n",
       "      <td>0</td>\n",
       "      <td>1.000000</td>\n",
       "      <td>1.000000</td>\n",
       "      <td>1.000000</td>\n",
       "      <td>1.000000</td>\n",
       "    </tr>\n",
       "    <tr>\n",
       "      <th>1</th>\n",
       "      <td>1</td>\n",
       "      <td>0.020134</td>\n",
       "      <td>0.014468</td>\n",
       "      <td>0.026076</td>\n",
       "      <td>0.020092</td>\n",
       "    </tr>\n",
       "    <tr>\n",
       "      <th>2</th>\n",
       "      <td>2</td>\n",
       "      <td>0.039849</td>\n",
       "      <td>0.031987</td>\n",
       "      <td>0.047799</td>\n",
       "      <td>0.039789</td>\n",
       "    </tr>\n",
       "    <tr>\n",
       "      <th>3</th>\n",
       "      <td>3</td>\n",
       "      <td>0.053272</td>\n",
       "      <td>0.044620</td>\n",
       "      <td>0.062395</td>\n",
       "      <td>0.053313</td>\n",
       "    </tr>\n",
       "    <tr>\n",
       "      <th>4</th>\n",
       "      <td>4</td>\n",
       "      <td>0.054950</td>\n",
       "      <td>0.045792</td>\n",
       "      <td>0.064612</td>\n",
       "      <td>0.054902</td>\n",
       "    </tr>\n",
       "    <tr>\n",
       "      <th>5</th>\n",
       "      <td>5</td>\n",
       "      <td>0.058725</td>\n",
       "      <td>0.049700</td>\n",
       "      <td>0.068172</td>\n",
       "      <td>0.058711</td>\n",
       "    </tr>\n",
       "    <tr>\n",
       "      <th>6</th>\n",
       "      <td>6</td>\n",
       "      <td>0.066275</td>\n",
       "      <td>0.056555</td>\n",
       "      <td>0.076436</td>\n",
       "      <td>0.066292</td>\n",
       "    </tr>\n",
       "    <tr>\n",
       "      <th>7</th>\n",
       "      <td>7</td>\n",
       "      <td>0.057047</td>\n",
       "      <td>0.047839</td>\n",
       "      <td>0.066389</td>\n",
       "      <td>0.056979</td>\n",
       "    </tr>\n",
       "    <tr>\n",
       "      <th>8</th>\n",
       "      <td>8</td>\n",
       "      <td>0.042785</td>\n",
       "      <td>0.034731</td>\n",
       "      <td>0.051068</td>\n",
       "      <td>0.042747</td>\n",
       "    </tr>\n",
       "    <tr>\n",
       "      <th>9</th>\n",
       "      <td>9</td>\n",
       "      <td>0.039849</td>\n",
       "      <td>0.031976</td>\n",
       "      <td>0.048279</td>\n",
       "      <td>0.039916</td>\n",
       "    </tr>\n",
       "    <tr>\n",
       "      <th>10</th>\n",
       "      <td>10</td>\n",
       "      <td>0.049916</td>\n",
       "      <td>0.041561</td>\n",
       "      <td>0.058482</td>\n",
       "      <td>0.049904</td>\n",
       "    </tr>\n",
       "    <tr>\n",
       "      <th>11</th>\n",
       "      <td>11</td>\n",
       "      <td>0.051594</td>\n",
       "      <td>0.043423</td>\n",
       "      <td>0.060059</td>\n",
       "      <td>0.051615</td>\n",
       "    </tr>\n",
       "    <tr>\n",
       "      <th>12</th>\n",
       "      <td>12</td>\n",
       "      <td>0.052433</td>\n",
       "      <td>0.044093</td>\n",
       "      <td>0.061085</td>\n",
       "      <td>0.052435</td>\n",
       "    </tr>\n",
       "    <tr>\n",
       "      <th>13</th>\n",
       "      <td>13</td>\n",
       "      <td>0.045302</td>\n",
       "      <td>0.037176</td>\n",
       "      <td>0.053930</td>\n",
       "      <td>0.045345</td>\n",
       "    </tr>\n",
       "    <tr>\n",
       "      <th>14</th>\n",
       "      <td>14</td>\n",
       "      <td>0.048238</td>\n",
       "      <td>0.039108</td>\n",
       "      <td>0.057904</td>\n",
       "      <td>0.048307</td>\n",
       "    </tr>\n",
       "    <tr>\n",
       "      <th>15</th>\n",
       "      <td>15</td>\n",
       "      <td>0.039849</td>\n",
       "      <td>0.031879</td>\n",
       "      <td>0.048319</td>\n",
       "      <td>0.039920</td>\n",
       "    </tr>\n",
       "    <tr>\n",
       "      <th>16</th>\n",
       "      <td>20</td>\n",
       "      <td>0.038591</td>\n",
       "      <td>0.031444</td>\n",
       "      <td>0.046258</td>\n",
       "      <td>0.038631</td>\n",
       "    </tr>\n",
       "    <tr>\n",
       "      <th>17</th>\n",
       "      <td>30</td>\n",
       "      <td>0.023490</td>\n",
       "      <td>0.017714</td>\n",
       "      <td>0.029740</td>\n",
       "      <td>0.023486</td>\n",
       "    </tr>\n",
       "    <tr>\n",
       "      <th>18</th>\n",
       "      <td>45</td>\n",
       "      <td>0.017198</td>\n",
       "      <td>0.012288</td>\n",
       "      <td>0.022416</td>\n",
       "      <td>0.017196</td>\n",
       "    </tr>\n",
       "    <tr>\n",
       "      <th>19</th>\n",
       "      <td>60</td>\n",
       "      <td>0.015940</td>\n",
       "      <td>0.011288</td>\n",
       "      <td>0.021083</td>\n",
       "      <td>0.015949</td>\n",
       "    </tr>\n",
       "  </tbody>\n",
       "</table>\n",
       "</div>"
      ],
      "text/plain": [
       "    n_day  retention    ci_low   ci_high  bootstrap_mean\n",
       "0       0   1.000000  1.000000  1.000000        1.000000\n",
       "1       1   0.020134  0.014468  0.026076        0.020092\n",
       "2       2   0.039849  0.031987  0.047799        0.039789\n",
       "3       3   0.053272  0.044620  0.062395        0.053313\n",
       "4       4   0.054950  0.045792  0.064612        0.054902\n",
       "5       5   0.058725  0.049700  0.068172        0.058711\n",
       "6       6   0.066275  0.056555  0.076436        0.066292\n",
       "7       7   0.057047  0.047839  0.066389        0.056979\n",
       "8       8   0.042785  0.034731  0.051068        0.042747\n",
       "9       9   0.039849  0.031976  0.048279        0.039916\n",
       "10     10   0.049916  0.041561  0.058482        0.049904\n",
       "11     11   0.051594  0.043423  0.060059        0.051615\n",
       "12     12   0.052433  0.044093  0.061085        0.052435\n",
       "13     13   0.045302  0.037176  0.053930        0.045345\n",
       "14     14   0.048238  0.039108  0.057904        0.048307\n",
       "15     15   0.039849  0.031879  0.048319        0.039920\n",
       "16     20   0.038591  0.031444  0.046258        0.038631\n",
       "17     30   0.023490  0.017714  0.029740        0.023486\n",
       "18     45   0.017198  0.012288  0.022416        0.017196\n",
       "19     60   0.015940  0.011288  0.021083        0.015949"
      ]
     },
     "execution_count": 47,
     "metadata": {},
     "output_type": "execute_result"
    }
   ],
   "source": [
    "# Границы периода.\n",
    "start_date = '2011-01-01'\n",
    "end_date = '2011-12-31'\n",
    "\n",
    "# Список дней, на которые считаем retention.\n",
    "days_for_df = list(range(16)) + [20, 30, 45, 60]\n",
    "\n",
    "# Результаты работы функции retention на эти дни.\n",
    "results = [retention_rate(day, start_cohort=start_date, end_cohort=end_date) for day in days_for_df]\n",
    "retention_for_df, ci_low_for_df, ci_high_for_df, bootstrap_mean_for_df = zip(*results)\n",
    "\n",
    "# Создаём датафрейм с результатами\n",
    "df = pd.DataFrame({\n",
    "    'n_day': days_for_df, \n",
    "    'retention': retention_for_df,\n",
    "    'ci_low': ci_low_for_df,\n",
    "    'ci_high': ci_high_for_df,\n",
    "    'bootstrap_mean': bootstrap_mean_for_df\n",
    "})\n",
    "df"
   ]
  },
  {
   "cell_type": "code",
   "execution_count": 48,
   "metadata": {},
   "outputs": [
    {
     "name": "stderr",
     "output_type": "stream",
     "text": [
      "C:\\ProgramData\\anaconda3\\Lib\\site-packages\\seaborn\\_oldcore.py:1119: FutureWarning: use_inf_as_na option is deprecated and will be removed in a future version. Convert inf values to NaN before operating instead.\n",
      "  with pd.option_context('mode.use_inf_as_na', True):\n",
      "C:\\ProgramData\\anaconda3\\Lib\\site-packages\\seaborn\\_oldcore.py:1119: FutureWarning: use_inf_as_na option is deprecated and will be removed in a future version. Convert inf values to NaN before operating instead.\n",
      "  with pd.option_context('mode.use_inf_as_na', True):\n",
      "C:\\ProgramData\\anaconda3\\Lib\\site-packages\\seaborn\\_oldcore.py:1119: FutureWarning: use_inf_as_na option is deprecated and will be removed in a future version. Convert inf values to NaN before operating instead.\n",
      "  with pd.option_context('mode.use_inf_as_na', True):\n",
      "C:\\ProgramData\\anaconda3\\Lib\\site-packages\\seaborn\\_oldcore.py:1119: FutureWarning: use_inf_as_na option is deprecated and will be removed in a future version. Convert inf values to NaN before operating instead.\n",
      "  with pd.option_context('mode.use_inf_as_na', True):\n",
      "C:\\ProgramData\\anaconda3\\Lib\\site-packages\\seaborn\\_oldcore.py:1119: FutureWarning: use_inf_as_na option is deprecated and will be removed in a future version. Convert inf values to NaN before operating instead.\n",
      "  with pd.option_context('mode.use_inf_as_na', True):\n",
      "C:\\ProgramData\\anaconda3\\Lib\\site-packages\\seaborn\\_oldcore.py:1119: FutureWarning: use_inf_as_na option is deprecated and will be removed in a future version. Convert inf values to NaN before operating instead.\n",
      "  with pd.option_context('mode.use_inf_as_na', True):\n",
      "C:\\Users\\Пользователь\\AppData\\Local\\Temp\\ipykernel_4664\\1994844498.py:18: UserWarning: set_ticklabels() should only be used with a fixed number of ticks, i.e. after set_ticks() or using a FixedLocator.\n",
      "  ax0.set_yticklabels([f'{y:.0%}' for y in yticks])\n"
     ]
    },
    {
     "data": {
      "image/png": "[encoded data removed]",
      "text/plain": [
       "<Figure size 1600x900 with 1 Axes>"
      ]
     },
     "metadata": {},
     "output_type": "display_data"
    }
   ],
   "source": [
    "# Рисуем графики.\n",
    "ax0 = sns.lineplot(data=df, x='n_day', y='retention', color='b', linewidth=1)\n",
    "ax1 = sns.lineplot(data=df, x='n_day', y='ci_low', color='g', linewidth=0.5, linestyle='--')\n",
    "ax2 = sns.lineplot(data=df, x='n_day', y='ci_high', color='g', linewidth=0.5, linestyle='--')\n",
    "\n",
    "# Считаем максимальный (не считая 0-го дня) retention.\n",
    "max_retention = df[df.n_day !=0].retention.max()\n",
    "max_day = df[df.retention == max_retention].n_day.values[0]\n",
    "\n",
    "# Делаем границы и подписи.\n",
    "ax0.set_ylim(0, round(max_retention, 1) + 0.05)\n",
    "ax0.set_title(f'Retention за период с {start_date} по {end_date}\\n')\n",
    "ax0.set_xlabel('День')\n",
    "ax0.set_ylabel('Retention')\n",
    "\n",
    "# Форматируем тики.\n",
    "yticks = ax0.get_yticks()\n",
    "ax0.set_yticklabels([f'{y:.0%}' for y in yticks])\n",
    "\n",
    "# Помечаем максимум.\n",
    "plt.plot([max_day, max_day], [0 , max_retention ], color='b', linestyle='--', linewidth=1)\n",
    "plt.text(max_day, max_retention+0.010,  f'{max_retention:.2%}', ha='left', va='top')\n",
    "\n",
    "# Зальём область между границами доверительных интервалов.\n",
    "plt.fill_between(df['n_day'], df['ci_low'], df['ci_high'], color='lightgreen', alpha=0.5)\n",
    "\n",
    "sns.despine()"
   ]
  },
  {
   "cell_type": "markdown",
   "metadata": {},
   "source": [
    "При этих условиях доверительные интервалы для retention значительны, и нам гораздо сложнее говорить о статистически значимых изменениях (эти изменения должны быть большими, чтобы быть замеченными)."
   ]
  },
  {
   "cell_type": "markdown",
   "metadata": {},
   "source": [
    "## Выводы\n",
    "\n",
    "Нами создана функция retention_rate(), способная считать retention n-ного дня (с требуемым уровнем доверия), считывая данные из файла и переводя их во время необходимого часового пояса. Есть возможность указать период, из которого будут браться когорты для расчёта, а также нижний предел размера когорт. Уровень доверия и число подвыборок для бутстрапа также можно изменить.\n",
    "\n",
    "Сохраним эту функцию в отдельный файл в качестве модуля. Так мы сможем при необходимости подгружать и использовать её в дальнейшей работе."
   ]
  },
  {
   "cell_type": "code",
   "execution_count": 49,
   "metadata": {},
   "outputs": [
    {
     "name": "stdout",
     "output_type": "stream",
     "text": [
      "Файл metrics_functions.py успешно создан и данные записаны.\n"
     ]
    }
   ],
   "source": [
    "module_path = \"metrics_functions.py\" # Название файла с модулем\n",
    "\n",
    "if not os.path.exists(module_path):\n",
    "    with open(module_path, 'w', encoding='utf-8') as file:\n",
    "        file.write(\"\"\"import pandas as pd\n",
    "import pytz # устаревший модуль, в более новых версиях заменён на zoneinfo\n",
    "from pytz.exceptions import UnknownTimeZoneError\n",
    "from datetime import timedelta\n",
    "\n",
    "\n",
    "def retention_rate(\n",
    "    n, \n",
    "    path_to_file=\"https://getfile.dokpub.com/yandex/get/https://disk.yandex.com/d/WqlBuzCFovm-3g\",\n",
    "    timezone=\"Europe/Berlin\",\n",
    "    limit=0,\n",
    "    start_cohort=None, \n",
    "    end_cohort=None,\n",
    "    bootstrap_size=10000,\n",
    "    bootstrap_ci=0.95\n",
    "):\n",
    "    '''\n",
    "    Функция рассчитывает retention n-ного дня. Пользователи разбиваются на когорты по дням регистрации \n",
    "        (точно соответствующим дням первого входа в игру, поэтому считываем только файл со входами в игру).\n",
    "    \n",
    "    Аргументы:\n",
    "        n - день, retention на который мы считаем, должен быть целым числом (желательно положительным);\n",
    "        path_to_file - путь к файлу, где хранятся данные о всех входах пользователей в игру;\n",
    "            это должен быть csv-файл с разделителем \";\", состоящий из 2 столбцов: 'auth_ts' со временем \n",
    "            входа в игру (в форме UNIX-таймстемпа) и 'uid' с идентификаторами пользователей;\n",
    "        timezone - существующий часовой пояс в виде строки;\n",
    "        limit - нижний предел численности когорт (если мы считаем целесообразным брать для расчётов\n",
    "            только когорты выше определённой численности);\n",
    "        start_cohort - начальная когорта периода, за который мы считаем retention (формат ввода 'YYYY-MM-DD');\n",
    "        end_cohort - конечная когорта периода, за который мы считаем retention (формат ввода 'YYYY-MM-DD');\n",
    "        bootstrap_size - число подвыборок, которые мы берём при вычислении доверительного интервала для\n",
    "            retention;\n",
    "        bootstrap_ci - уровень доверия, с которым мы определяем retention.\n",
    "    '''\n",
    "    \n",
    "    # Стартовые проверки на осмысленность входных значений аргументов.\n",
    "    if not isinstance(n, int):\n",
    "        print('Ошибка. n должно быть целым числом.\\\\n')\n",
    "        return\n",
    "    \n",
    "    elif n < 0:\n",
    "        print('Нет большого смысла в отрицательном n. Нельзя войти в игру раньше первого входа.\\\\n\\\\\n",
    "Но если хотите, можем посчитать.\\\\n')\n",
    "        \n",
    "    elif n == 0:\n",
    "        print('Нет большого смысла в n=0. Retention нулевого дня всегда 100%.\\\\n\\\\\n",
    "Но если хотите, можем посчитать.\\\\n')\n",
    "        \n",
    "    if not isinstance(bootstrap_size, int):\n",
    "        print('Ошибка. bootstrap_size должно быть целым числом.\\\\n')\n",
    "        return\n",
    "    \n",
    "    elif bootstrap_size <= 0:\n",
    "        print('Ошибка. bootstrap_size должно быть положительным числом.\\\\n')\n",
    "        return\n",
    "    \n",
    "    if not isinstance(bootstrap_ci, (int, float)):\n",
    "        print('Ошибка. bootstrap_ci должно быть числом.\\\\n')\n",
    "        return\n",
    "    \n",
    "    elif not (0 <= bootstrap_ci <= 1):\n",
    "        print('Ошибка. bootstrap_ci должно быть числом от 0 до 1.\\\\n')\n",
    "        return\n",
    "        \n",
    "    if not isinstance(limit, (int, float)):\n",
    "        print('Ошибка. Предел численности когорт должен быть числом.\\\\n')\n",
    "        return\n",
    "        \n",
    "    if limit < 0:\n",
    "        print('Нет большого смысла в отрицательном пределе численности когорт.\\\\n\\\\\n",
    "Этот показатель не может быть меньше 0.\\\\n\\\\\n",
    "Но если хотите, можем посчитать.\\\\n')\n",
    "    \n",
    "    if not timezone in pytz.all_timezones:\n",
    "        print('Ошибка. Неизвестная таймзона.\\\\n')\n",
    "        return\n",
    "    \n",
    "    if not start_cohort == None:\n",
    "        try:\n",
    "            datetime.strptime(start_cohort, '%Y-%m-%d')\n",
    "    \n",
    "        except Exception:\n",
    "            print(\"Ошибка. Начальная когорта для расчётов должна быть заведена в формате 'YYYY-MM-DD'\\\\n\\\\\n",
    "и должна являться валидной датой.\\\\n\")\n",
    "            return\n",
    "        \n",
    "    if not end_cohort == None:\n",
    "        try:\n",
    "            datetime.strptime(end_cohort, '%Y-%m-%d')\n",
    "    \n",
    "        except Exception:\n",
    "            print(\"Ошибка. Конечная когорта для расчётов должна быть заведена в формате 'YYYY-MM-DD'\\\\n\\\\\n",
    "и должна являться валидной датой.\\\\n\")\n",
    "            return\n",
    "    \n",
    "    try:\n",
    "        \n",
    "        # Считываем данные.\n",
    "        authorization_data = pd.read_csv(path_to_file, sep=';') \n",
    "\n",
    "        # Переводим UNIX-таймстемпы в наше локальное время.\n",
    "        authorization_data['auth_date'] = pd.to_datetime(authorization_data['auth_ts'], unit='s') \\\\\n",
    "            .dt.tz_localize('UTC') \\\\\n",
    "            .dt.tz_convert(timezone) \n",
    "\n",
    "        # Если период вычислений не задан, берём в этом качестве самую первую и самую последнюю запись.\n",
    "        if start_cohort == None:\n",
    "            start_cohort_dt = authorization_data['auth_date'].min().date()\n",
    "        else:\n",
    "            start_cohort_dt = pd.to_datetime(start_cohort).date()\n",
    "\n",
    "        if end_cohort == None:\n",
    "            end_cohort_dt = authorization_data['auth_date'].max().date()\n",
    "        else:\n",
    "            end_cohort_dt = pd.to_datetime(end_cohort).date()\n",
    "\n",
    "        # Определяем время первого входа в игру для каждого пользователя.\n",
    "        first_auth = authorization_data \\\\\n",
    "            .groupby('uid', as_index=False) \\\\\n",
    "            .auth_date \\\\\n",
    "            .min() \\\\\n",
    "            .rename(columns={'auth_date': 'first_auth'})\n",
    "\n",
    "        # Отфильтровываем период для расчёта (если нужно).\n",
    "        if (\n",
    "               start_cohort_dt != authorization_data['auth_date'].min().date() \n",
    "            or end_cohort_dt != authorization_data['auth_date'].max().date()\n",
    "        ):\n",
    "            first_auth = first_auth.loc[\n",
    "                    (first_auth.first_auth.dt.date >= start_cohort_dt) \n",
    "                & (first_auth.first_auth.dt.date <= end_cohort_dt)\n",
    "            ]\n",
    "\n",
    "        # Разобьём пользователей на когорты по дням. \n",
    "        # Для производительности будем хранить ID пользователей во множествах. \n",
    "        first_auth_by_day_users = first_auth \\\\\n",
    "            .resample(rule='D', on='first_auth') \\\\\n",
    "            .agg({'uid': set}) \\\\\n",
    "            .reset_index() \\\\\n",
    "            .rename(columns={'first_auth': 'cohort', 'uid': 'users_set'})\n",
    "\n",
    "        # Посчитаем количество уникальных пользователей в каждой когорте.\n",
    "        first_auth_by_day_users['users'] = first_auth_by_day_users['users_set'].apply(len)\n",
    "\n",
    "        # Отфильтруем слишком маленькие когорты (если нужно).\n",
    "        if limit > 0:\n",
    "            first_auth_by_day_users = first_auth_by_day_users.loc[first_auth_by_day_users.users >= limit]\n",
    "\n",
    "        # Для удобства вычислений переведём формат данных в дни.\n",
    "        first_auth_by_day_users['cohort'] = first_auth_by_day_users['cohort'].dt.tz_localize(None)\n",
    "\n",
    "        # Посчитаем для каждой когорты n-ный день (тот, на который мы определяем retention).\n",
    "        first_auth_by_day_users['n_day'] = first_auth_by_day_users['cohort'] + timedelta(days=n)\n",
    "\n",
    "        # Посмотрим, какие пользователи заходили в игру в каждый из дней.\n",
    "        # Использование множеств обеспечит уникальность.\n",
    "        auth_by_day_users = authorization_data \\\\\n",
    "            .resample(rule='D', on='auth_date') \\\\\n",
    "            .agg({'uid': set}) \\\\\n",
    "            .reset_index() \\\\\n",
    "            .rename(columns={'auth_date': 'n_day', 'uid': 'n_day_users_set'})\n",
    "\n",
    "        # Также переведём формат данных в дни.\n",
    "        auth_by_day_users['n_day'] = auth_by_day_users['n_day'].dt.tz_localize(None)\n",
    "\n",
    "        # Соединим данные о когортах с данными о посещениях в n-ый день.\n",
    "        # Когорты, где n-ный день ещё не настал и не попал в данные, придётся дропнуть.\n",
    "        merged_data = first_auth_by_day_users \\\\\n",
    "            .merge(auth_by_day_users, on='n_day', how='left') \\\\\n",
    "            .dropna()\n",
    "\n",
    "        # Посчитаем, сколько уникальных пользователей из каждой когорты заходили в игру на n-ный день.\n",
    "        merged_data['recurrent_n_day_users'] = merged_data \\\\\n",
    "            .apply(lambda x: len(x['users_set'].intersection(x['n_day_users_set'])), axis=1)\n",
    "\n",
    "        # Теперь у нас есть все данные для расчёта retention.\n",
    "        RR = merged_data.recurrent_n_day_users.sum() / merged_data.users.sum()\n",
    "        \n",
    "        # Определим доверительный интервал для retention. Наши данные могут оказаться распределены \n",
    "        # любым образом и не подходить для применения обычных (как параметрических, так и непараметрических)\n",
    "        # статистических тестов. Поэтому используем бутстрап.\n",
    "        RR_list = []\n",
    "        merged_data_subset = merged_data[['users', 'recurrent_n_day_users']] # Оставим только нужное.\n",
    "        \n",
    "        # Возьмём подвыборки с повторением из нашего датафрейма для расчёта retention\n",
    "        # и получим серию значений retention.\n",
    "        for i in range(bootstrap_size):\n",
    "            sampled_df = merged_data_subset.sample(frac=1, replace=True)\n",
    "            sampled_RR = sampled_df.recurrent_n_day_users.sum() / sampled_df.users.sum()\n",
    "            RR_list.append(sampled_RR)\n",
    "        \n",
    "        RR_series = pd.Series(RR_list)\n",
    "        \n",
    "        # Из этой серии расчитаем границы доверительного интервала и бутстрапированное среднее.\n",
    "        ci_low = RR_series.quantile(q=(1-bootstrap_ci)/2) # Нижняя граница ДИ. \n",
    "        ci_high = RR_series.quantile(q=1-(1-bootstrap_ci)/2) # Верхняя граница ДИ.\n",
    "        bootstrap_mean = RR_series.mean() # Бутстрапированное среднее.\n",
    "        \n",
    "        return RR, ci_low, ci_high, bootstrap_mean\n",
    "        \n",
    "    except ValueError:\n",
    "        \n",
    "        print('Ошибка. Нет данных за требуемый промежуток времени;\\\\n\\\\\n",
    "либо слишком высокий предел численности когорты.\\\\n\\\\n\\\\\n",
    "И проверьте, что за файл Вы подаёте на вход.\\\\n')\n",
    "        \n",
    "        return\n",
    "    \n",
    "    except FileNotFoundError:\n",
    "        \n",
    "        print('Ошибка. По указанному адресу файл не найден.\\\\n')\n",
    "        \n",
    "        return\n",
    "    \n",
    "    except KeyError:\n",
    "        \n",
    "        print('Ошибка. Заголовки столбцов не те. Это точно нужный файл?\\\\n')\n",
    "        \n",
    "        return\n",
    "    \n",
    "    except Exception:\n",
    "        \n",
    "        print('Ошибка. Неизвестная ошибка.\\\\n')\n",
    "        \n",
    "        return\n",
    "        \"\"\")\n",
    "    print(f\"Файл {module_path} успешно создан и данные записаны.\")\n",
    "else:\n",
    "    print(f\"Файл {module_path} уже существует.\")"
   ]
  }
 ],
 "metadata": {
  "kernelspec": {
   "display_name": "Python 3 (ipykernel)",
   "language": "python",
   "name": "python3"
  },
  "language_info": {
   "codemirror_mode": {
    "name": "ipython",
    "version": 3
   },
   "file_extension": ".py",
   "mimetype": "text/x-python",
   "name": "python",
   "nbconvert_exporter": "python",
   "pygments_lexer": "ipython3",
   "version": "3.11.7"
  }
 },
 "nbformat": 4,
 "nbformat_minor": 4
}
